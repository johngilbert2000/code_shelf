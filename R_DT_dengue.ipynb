{
 "cells": [
  {
   "cell_type": "markdown",
   "metadata": {},
   "source": [
    "# Decision Trees for Predicting Dengue Fever: Subgroup Assessment"
   ]
  },
  {
   "cell_type": "markdown",
   "metadata": {},
   "source": [
    "**Abstract:** A decision tree was trained on tabular medical data (age, temperature, WBC exam score, Plt exam score) to predict whether or not patients had dengue fever. Datasets were split according to various features to assess the model's predictive stability. Dengue fever is a serious illness that is initially not easily detectable, and initial symptoms tend to be similar to those of the flu. The advantage of using decision trees to predict the existence dengue fever in patients, as opposed to using other machine learning methods, is the method can be easily understood by doctors and is easily interpretable."
   ]
  },
  {
   "cell_type": "markdown",
   "metadata": {
    "heading_collapsed": true
   },
   "source": [
    "## Theory"
   ]
  },
  {
   "cell_type": "markdown",
   "metadata": {
    "hidden": true
   },
   "source": [
    "### Decision Trees"
   ]
  },
  {
   "cell_type": "markdown",
   "metadata": {
    "hidden": true
   },
   "source": [
    "Decision trees, or Classification and Regression Trees (CART), are widely-used machine learning tools that involve successively separating a set of samples into subsets or nodes of a tree. Typically, each node is separated into two subsequent nodes until there are no samples left to separate, or until a max-depth is reached for the tree. The nodes are split based upon a condition or characteristic that influences the dependent variable the most for samples in that node. In training, the most influential conditions are determined for each node when the tree is constructed, thereby grouping similar samples together into nodes, with similarity increasing with each split, (i.e., with increasing depth of the tree). Each node is classified based upon the most common value for the dependent variable in that node, thereby giving the nodes predictive power over the samples grouped into them. After the tree is constructed, the conditions that were used to split the nodes of the training set can be applied to similar datasets to group similar samples together, after which predictions can be made for samples based upon their nodes.\n",
    "\n",
    "Note that while sample similarity for nodes of the tree increase as the depth of the tree increases, a tree that is too deep will overfit and describe conditions specific only to the training set. Thus, controlling the max-depth of the tree is a technique used to prevent overfitting, thereby forcing the tree to model more general trends inherent in the data."
   ]
  },
  {
   "cell_type": "markdown",
   "metadata": {
    "hidden": true
   },
   "source": [
    "### Subgroups"
   ]
  },
  {
   "cell_type": "markdown",
   "metadata": {
    "hidden": true
   },
   "source": [
    "#### n-Fold Cross Validation: Training Multiple Models\n",
    "\n",
    "In n-fold cross validation, the overall dataset is split into equal parts for the purpose of training multiple models, such that all of the data is used at least once in a validation set. The confusion matrices (true negatives, false positives, false negatives, true positives) for each model are then added together to calculate the overall metrics of the model.\n",
    "\n",
    "For this experiment, 5-fold cross validation was performed. The dataset was split into five equal subsets (each 20% of original dataset). The subsets were grouped into five validation sets (20% of original dataset) and five training sets (80% of original dataset, i.e., original dataset minus validation set). Five logistic regression models were trained and then assessed with corresponding validation sets. The resulting five confusion matrices were summed, producing an overall confusion matrix that would be used to calculate overall metrics.\n",
    "\n",
    "#### Validation Subgroup Analysis\n",
    "\n",
    "The validation datasets of each model were split into multiple subgroups based on various features, *(Age, Gender, Epidemic periods, Body Temp, White Blood Cells, Platelet, Comorbidities, coming to ER)*, to assess stability of the model accross datasets. The subgroup confusion matrices were summed across multiple models, resulting in overall confusion matrices for each subgroup. Confusion matrices were then used to calculate overall metrics for each subgroup."
   ]
  },
  {
   "cell_type": "markdown",
   "metadata": {},
   "source": [
    "## Setup\n"
   ]
  },
  {
   "cell_type": "markdown",
   "metadata": {},
   "source": [
    "This notebook was originally written with the following versions:\n",
    "\n",
    "    'R version 3.6.1 (2019-07-05)'\n",
    "    'rpart 4.1.15'\n",
    "    'rpart 4.1.15'\n",
    "    'rpart.plot 3.0.8'\n",
    "    'caTools 1.17.1.2'\n",
    "    'caret 6.0.83'\n",
    "    'data.table 1.12.2'\n",
    "    'pROC 1.15.3'\n",
    "    "
   ]
  },
  {
   "cell_type": "code",
   "execution_count": 1,
   "metadata": {},
   "outputs": [
    {
     "data": {
      "text/html": [
       "'R version 3.6.1 (2019-07-05)'"
      ],
      "text/latex": [
       "'R version 3.6.1 (2019-07-05)'"
      ],
      "text/markdown": [
       "'R version 3.6.1 (2019-07-05)'"
      ],
      "text/plain": [
       "[1] \"R version 3.6.1 (2019-07-05)\""
      ]
     },
     "metadata": {},
     "output_type": "display_data"
    },
    {
     "data": {
      "text/html": [
       "'rpart 4.1.15'"
      ],
      "text/latex": [
       "'rpart 4.1.15'"
      ],
      "text/markdown": [
       "'rpart 4.1.15'"
      ],
      "text/plain": [
       "[1] \"rpart 4.1.15\""
      ]
     },
     "metadata": {},
     "output_type": "display_data"
    },
    {
     "data": {
      "text/html": [
       "'rpart 4.1.15'"
      ],
      "text/latex": [
       "'rpart 4.1.15'"
      ],
      "text/markdown": [
       "'rpart 4.1.15'"
      ],
      "text/plain": [
       "[1] \"rpart 4.1.15\""
      ]
     },
     "metadata": {},
     "output_type": "display_data"
    },
    {
     "data": {
      "text/html": [
       "'rpart.plot 3.0.8'"
      ],
      "text/latex": [
       "'rpart.plot 3.0.8'"
      ],
      "text/markdown": [
       "'rpart.plot 3.0.8'"
      ],
      "text/plain": [
       "[1] \"rpart.plot 3.0.8\""
      ]
     },
     "metadata": {},
     "output_type": "display_data"
    },
    {
     "data": {
      "text/html": [
       "'caTools 1.17.1.2'"
      ],
      "text/latex": [
       "'caTools 1.17.1.2'"
      ],
      "text/markdown": [
       "'caTools 1.17.1.2'"
      ],
      "text/plain": [
       "[1] \"caTools 1.17.1.2\""
      ]
     },
     "metadata": {},
     "output_type": "display_data"
    },
    {
     "data": {
      "text/html": [
       "'caret 6.0.83'"
      ],
      "text/latex": [
       "'caret 6.0.83'"
      ],
      "text/markdown": [
       "'caret 6.0.83'"
      ],
      "text/plain": [
       "[1] \"caret 6.0.83\""
      ]
     },
     "metadata": {},
     "output_type": "display_data"
    },
    {
     "data": {
      "text/html": [
       "'data.table 1.12.2'"
      ],
      "text/latex": [
       "'data.table 1.12.2'"
      ],
      "text/markdown": [
       "'data.table 1.12.2'"
      ],
      "text/plain": [
       "[1] \"data.table 1.12.2\""
      ]
     },
     "metadata": {},
     "output_type": "display_data"
    },
    {
     "data": {
      "text/html": [
       "'pROC 1.15.3'"
      ],
      "text/latex": [
       "'pROC 1.15.3'"
      ],
      "text/markdown": [
       "'pROC 1.15.3'"
      ],
      "text/plain": [
       "[1] \"pROC 1.15.3\""
      ]
     },
     "metadata": {},
     "output_type": "display_data"
    }
   ],
   "source": [
    "# Check your versions\n",
    "version$version.string;\n",
    "paste(\"rpart\", packageVersion(\"rpart\"));\n",
    "paste(\"rpart\", packageVersion(\"rpart\"));\n",
    "paste(\"rpart.plot\", packageVersion(\"rpart.plot\"));\n",
    "paste(\"caTools\", packageVersion(\"caTools\"));\n",
    "paste(\"caret\", packageVersion(\"caret\"));\n",
    "paste(\"data.table\", packageVersion(\"data.table\"));\n",
    "paste(\"pROC\", packageVersion(\"pROC\"));"
   ]
  },
  {
   "cell_type": "markdown",
   "metadata": {},
   "source": [
    "##### Prepare Notebook"
   ]
  },
  {
   "cell_type": "code",
   "execution_count": 2,
   "metadata": {},
   "outputs": [
    {
     "name": "stderr",
     "output_type": "stream",
     "text": [
      "Loading required package: lattice\n",
      "Loading required package: ggplot2\n",
      "Registered S3 methods overwritten by 'ggplot2':\n",
      "  method         from \n",
      "  [.quosures     rlang\n",
      "  c.quosures     rlang\n",
      "  print.quosures rlang\n",
      "Type 'citation(\"pROC\")' for a citation.\n",
      "\n",
      "Attaching package: ‘pROC’\n",
      "\n",
      "The following objects are masked from ‘package:stats’:\n",
      "\n",
      "    cov, smooth, var\n",
      "\n"
     ]
    }
   ],
   "source": [
    "# Import Libraries\n",
    "library(rpart)\n",
    "library(rpart.plot)\n",
    "library(caTools)\n",
    "\n",
    "library(caret)\n",
    "library(data.table)\n",
    "library(pROC)\n",
    "# library(tidyverse)\n",
    "\n",
    "# Data Information\n",
    "# filename <- 'patient_year_vital_lab_exam_add-on_death_outcome_comorbidity_TCIC_dengue_suspected_bmi_ER_label_missing_mask.csv'\n",
    "filename <- 'patients_cleaned.csv'\n",
    "path <- '../mydata/'\n",
    "pathfile <- paste(path,filename,sep='')"
   ]
  },
  {
   "cell_type": "code",
   "execution_count": 3,
   "metadata": {},
   "outputs": [],
   "source": [
    "# View all CSV column names\n",
    "\n",
    "# df <- read.csv(pathfile)\n",
    "# names(df)"
   ]
  },
  {
   "cell_type": "markdown",
   "metadata": {},
   "source": [
    "## Parameters"
   ]
  },
  {
   "cell_type": "code",
   "execution_count": 4,
   "metadata": {},
   "outputs": [],
   "source": [
    "splits = 5 # number of folds for cross validation\n",
    "recalls = c(0.85,0.90,0.95) # sensitivities used for calculating results\n",
    "\n",
    "\n",
    "# Imported columns from CSV\n",
    "desired_cols = c('age','sex','Temp','exam_WBC','exam_Plt', 'Opd_Visit_Date',\n",
    "                'ER', 'Heart Disease', 'CVA', 'CKD', 'Severe Liver Disease', \n",
    "                'DM', 'Hypertension', 'Cancer without Metastasis', 'Cancer with Metastasis',\n",
    "                'lab_result')\n",
    "\n",
    "# Features used for training + dependent variable\n",
    "train_cols = c('age','Temp','exam_WBC','exam_Plt','lab_result')\n",
    "\n",
    "\n",
    "# Features used for creating validation subgroups (includes features from train_cols)\n",
    "subgroup_cols = c('age','sex','Temp','exam_WBC','exam_Plt', 'week',\n",
    "                'ER', 'Heart Disease', 'CVA', 'CKD', 'Severe Liver Disease', \n",
    "                'DM', 'Hypertension', 'Cancer without Metastasis', 'Cancer with Metastasis',\n",
    "                'lab_result')\n",
    "\n",
    "prior <- seq(0.1, 0.9, 0.008)\n",
    "\n",
    "# Columns to be dropped after creating validation subgroups\n",
    "# drop_cols = list(set(subgroup_cols) - set(train_cols))"
   ]
  },
  {
   "cell_type": "markdown",
   "metadata": {},
   "source": [
    "## Data Preparation"
   ]
  },
  {
   "cell_type": "code",
   "execution_count": 5,
   "metadata": {},
   "outputs": [
    {
     "name": "stdout",
     "output_type": "stream",
     "text": [
      "[1] 4894\n"
     ]
    },
    {
     "data": {
      "text/html": [
       "<table>\n",
       "<thead><tr><th></th><th scope=col>age</th><th scope=col>Temp</th><th scope=col>exam_WBC</th><th scope=col>exam_Plt</th><th scope=col>lab_result</th></tr></thead>\n",
       "<tbody>\n",
       "\t<tr><th scope=row>4226</th><td>58   </td><td>37.9 </td><td>14.2 </td><td>272  </td><td>False</td></tr>\n",
       "\t<tr><th scope=row>2793</th><td>48   </td><td>38.5 </td><td> 6.5 </td><td>215  </td><td>False</td></tr>\n",
       "\t<tr><th scope=row>4859</th><td>32   </td><td>39.6 </td><td> 5.1 </td><td>161  </td><td>True </td></tr>\n",
       "\t<tr><th scope=row>4630</th><td>32   </td><td>39.8 </td><td>10.2 </td><td>181  </td><td>False</td></tr>\n",
       "\t<tr><th scope=row>4516</th><td>66   </td><td>38.2 </td><td> 2.2 </td><td>141  </td><td>True </td></tr>\n",
       "\t<tr><th scope=row>1227</th><td>80   </td><td>37.5 </td><td> 4.8 </td><td>129  </td><td>True </td></tr>\n",
       "</tbody>\n",
       "</table>\n"
      ],
      "text/latex": [
       "\\begin{tabular}{r|lllll}\n",
       "  & age & Temp & exam\\_WBC & exam\\_Plt & lab\\_result\\\\\n",
       "\\hline\n",
       "\t4226 & 58    & 37.9  & 14.2  & 272   & False\\\\\n",
       "\t2793 & 48    & 38.5  &  6.5  & 215   & False\\\\\n",
       "\t4859 & 32    & 39.6  &  5.1  & 161   & True \\\\\n",
       "\t4630 & 32    & 39.8  & 10.2  & 181   & False\\\\\n",
       "\t4516 & 66    & 38.2  &  2.2  & 141   & True \\\\\n",
       "\t1227 & 80    & 37.5  &  4.8  & 129   & True \\\\\n",
       "\\end{tabular}\n"
      ],
      "text/markdown": [
       "\n",
       "| <!--/--> | age | Temp | exam_WBC | exam_Plt | lab_result |\n",
       "|---|---|---|---|---|---|\n",
       "| 4226 | 58    | 37.9  | 14.2  | 272   | False |\n",
       "| 2793 | 48    | 38.5  |  6.5  | 215   | False |\n",
       "| 4859 | 32    | 39.6  |  5.1  | 161   | True  |\n",
       "| 4630 | 32    | 39.8  | 10.2  | 181   | False |\n",
       "| 4516 | 66    | 38.2  |  2.2  | 141   | True  |\n",
       "| 1227 | 80    | 37.5  |  4.8  | 129   | True  |\n",
       "\n"
      ],
      "text/plain": [
       "     age Temp exam_WBC exam_Plt lab_result\n",
       "4226 58  37.9 14.2     272      False     \n",
       "2793 48  38.5  6.5     215      False     \n",
       "4859 32  39.6  5.1     161      True      \n",
       "4630 32  39.8 10.2     181      False     \n",
       "4516 66  38.2  2.2     141      True      \n",
       "1227 80  37.5  4.8     129      True      "
      ]
     },
     "metadata": {},
     "output_type": "display_data"
    }
   ],
   "source": [
    "# Create a dataframe with just train_cols as features\n",
    "df <- read.csv(pathfile)\n",
    "df <- df[,train_cols]\n",
    "df <- as.data.frame(df)\n",
    "# df <- cbind(index = as.numeric(row.names(df)), df) # adds indices?\n",
    "\n",
    "# remove negative Temp values\n",
    "df$Temp[which(df$Temp == -1)] <- NA\n",
    "\n",
    "# remove rows with NA values\n",
    "df <- na.omit(df)\n",
    "\n",
    "# shuffle the df by row\n",
    "df <- df[sample(nrow(df)),]\n",
    "\n",
    "print(nrow(df))\n",
    "head(df) # df[seq(6),]"
   ]
  },
  {
   "cell_type": "code",
   "execution_count": 6,
   "metadata": {
    "scrolled": true
   },
   "outputs": [
    {
     "data": {
      "text/plain": [
       "      age              Temp          exam_WBC         exam_Plt     lab_result  \n",
       " Min.   :  0.00   Min.   :34.80   Min.   : 0.600   Min.   :  2.0   False:1952  \n",
       " 1st Qu.: 27.00   1st Qu.:37.50   1st Qu.: 4.000   1st Qu.:124.0   True :2942  \n",
       " Median : 47.00   Median :38.30   Median : 6.000   Median :169.0               \n",
       " Mean   : 46.82   Mean   :38.18   Mean   : 6.814   Mean   :171.1               \n",
       " 3rd Qu.: 66.00   3rd Qu.:38.90   3rd Qu.: 8.500   3rd Qu.:216.0               \n",
       " Max.   :104.00   Max.   :41.30   Max.   :41.600   Max.   :976.0               "
      ]
     },
     "metadata": {},
     "output_type": "display_data"
    }
   ],
   "source": [
    "summary(df)"
   ]
  },
  {
   "cell_type": "code",
   "execution_count": 7,
   "metadata": {
    "scrolled": true
   },
   "outputs": [
    {
     "data": {
      "image/png": "[encoded data removed]",
      "text/plain": [
       "plot without title"
      ]
     },
     "metadata": {},
     "output_type": "display_data"
    }
   ],
   "source": [
    "plot(df)"
   ]
  },
  {
   "cell_type": "markdown",
   "metadata": {},
   "source": [
    "## Training"
   ]
  },
  {
   "cell_type": "code",
   "execution_count": 8,
   "metadata": {},
   "outputs": [
    {
     "name": "stderr",
     "output_type": "stream",
     "text": [
      "Setting levels: control = 1, case = 2\n",
      "Setting direction: controls < cases\n",
      "Setting levels: control = 1, case = 2\n",
      "Setting direction: controls < cases\n",
      "Setting levels: control = 1, case = 2\n",
      "Setting direction: controls < cases\n",
      "Setting levels: control = 1, case = 2\n",
      "Setting direction: controls < cases\n",
      "Setting levels: control = 1, case = 2\n",
      "Setting direction: controls < cases\n",
      "Setting levels: control = 1, case = 2\n",
      "Setting direction: controls < cases\n",
      "Setting levels: control = 1, case = 2\n",
      "Setting direction: controls < cases\n",
      "Setting levels: control = 1, case = 2\n",
      "Setting direction: controls < cases\n",
      "Setting levels: control = 1, case = 2\n",
      "Setting direction: controls < cases\n",
      "Setting levels: control = 1, case = 2\n",
      "Setting direction: controls < cases\n"
     ]
    }
   ],
   "source": [
    "parms = 33\n",
    "prior <- seq(0.1, 0.9, 0.008)\n",
    "ncols = 14\n",
    "result_table <- matrix(ncol=ncols) #matrix(NA, ncol = 282 ) # nrow(valid_df))\n",
    "\n",
    "# for (i in prior)\n",
    "\n",
    "flds <- createFolds(df$lab_result, k = splits, list = TRUE, returnTrain = FALSE) # separate df into subsets\n",
    "for (i in 1:splits) {\n",
    "    idx <- flds[[i]]\n",
    "    train_df <- df[-idx,]\n",
    "    valid_df <- df[idx,]\n",
    "    dtreeM <- rpart(formula = lab_result ~ ., data = train_df, method = \"class\", \n",
    "        parms = list(prior = c(prior[parms], 1 - prior[parms])))\n",
    "    cp <- dtreeM$cptable[which.min(dtreeM$cptable[, 3]), 1]\n",
    "    dtreeM_pruned <- prune(dtreeM, cp = cp)\n",
    "    preds <- predict(dtreeM_pruned, newdata = valid_df, type = \"class\")\n",
    "\n",
    "#     print(mean(preds == valid_df[,5])) # accuracy\n",
    "    \n",
    "    accuracy = mean(preds == valid_df[,5])\n",
    "    \n",
    "    valid_result <- cbind(df[rownames(valid_df),], preds)\n",
    "    \n",
    "    # Confusion Matrix stuff\n",
    "    FN <- nrow(subset(valid_result, (preds != lab_result) & (preds == 'False')))\n",
    "    TN <- nrow(subset(valid_result, (preds == lab_result) & (preds == 'False')))\n",
    "    FP <- nrow(subset(valid_result, (preds != lab_result) & (preds == 'True')))\n",
    "    TP <- nrow(subset(valid_result, (preds == lab_result) & (preds == 'True')))\n",
    "    size <- FN + TN + FP + TP\n",
    "    \n",
    "    PPV = if (TP+FP) TP / (TP + FP) else 0 # positive predict value\n",
    "    NPV = if (TN+FN) TN / (TN + FN) else 0 # negative predict value\n",
    "    F1 = 2*TP / (2*TP + FP + FN) #\n",
    "    accuracy = (TP + TN) / (TP + TN + FP + FN)\n",
    "    sensitivity = if (TP+FN) TP /(TP + FN) else 0 \n",
    "    specificity = if (TN+FP) TN /(TN + FP) else 0 \n",
    "    odds_ratio = if (FP*FN) (TP * TN) /(FP * FN) else 0\n",
    "        \n",
    "    model_num = i\n",
    "    \n",
    "    roc_obj <- roc(as.numeric(valid_df$lab_result), as.numeric(preds))\n",
    "    roc_auc <- auc(roc_obj)\n",
    "    \n",
    "    model_metrics <- cbind(model_num, roc_auc, PPV, NPV, F1, accuracy, sensitivity, specificity, odds_ratio, FN, TN, FP, TP, size)\n",
    "    \n",
    "    result_table <- rbind(result_table, model_metrics)\n",
    "    \n",
    "#     toprint = paste(format(accuracy, digits=4), FN, TN, FP, TP, sep=\" | \")\n",
    "#     print(toprint)\n",
    "    \n",
    "#     result_table <- rbind(result_table, cbind(df[rownames(valid_df), ], \n",
    "#         result, validation = nrow(valid_df))) #rep(j, nrow(valid_df))))\n",
    "    }\n",
    "result_table <- result_table[-1,]"
   ]
  },
  {
   "cell_type": "markdown",
   "metadata": {},
   "source": [
    "## Overall Results"
   ]
  },
  {
   "cell_type": "code",
   "execution_count": 9,
   "metadata": {
    "scrolled": true
   },
   "outputs": [],
   "source": [
    "# Combine Metrics -> Overall Metrics\n",
    "overall <- data.frame(NA, stringsAsFactors=FALSE)\n",
    "for(i in 2:14){\n",
    "    overall <- cbind(overall, sum(result_table[,i]))\n",
    "}\n",
    "colnames(overall) <- (colnames(result_table))\n",
    "\n",
    "FN = overall[1,10]\n",
    "TN = overall[1,11]\n",
    "FP = overall[1,12]\n",
    "TP = overall[1,13]\n",
    "size <- sum(FN,TN,FP,TP)\n",
    "\n",
    "PPV = if (TP+FP) TP / (TP + FP) else 0 # positive predict value\n",
    "NPV = if (TN+FN) TN / (TN + FN) else 0 # negative predict value\n",
    "F1 = 2*TP / (2*TP + FP + FN) #\n",
    "accuracy = (TP + TN) / (TP + TN + FP + FN)\n",
    "sensitivity = if (TP+FN) TP /(TP + FN) else 0 \n",
    "specificity = if (TN+FP) TN /(TN + FP) else 0 \n",
    "odds_ratio = if (FP*FN) (TP * TN) /(FP * FN) else 0\n",
    "model_num = NA\n",
    "\n",
    "\n",
    "# roc_obj <- roc(as.numeric(valid_df$lab_result), as.numeric(preds))\n",
    "# roc_auc <- auc(roc_obj)\n",
    "roc_auc <- mean(result_table[1:splits,2])\n",
    "# roc_auc <- simple_auc(sensitivity,1-specificity)\n",
    "# roc_auc <- 0\n",
    "\n",
    "overall <- cbind(model_num, roc_auc, PPV, NPV, F1, accuracy, sensitivity, specificity, odds_ratio, FN, TN, FP, TP, size)\n",
    "\n",
    "result_table <- rbind(result_table, overall)"
   ]
  },
  {
   "cell_type": "code",
   "execution_count": 10,
   "metadata": {},
   "outputs": [
    {
     "data": {
      "text/html": [
       "<table>\n",
       "<thead><tr><th scope=col>model_num</th><th scope=col>roc_auc</th><th scope=col>PPV</th><th scope=col>NPV</th><th scope=col>F1</th><th scope=col>accuracy</th><th scope=col>sensitivity</th><th scope=col>specificity</th><th scope=col>odds_ratio</th><th scope=col>FN</th><th scope=col>TN</th><th scope=col>FP</th><th scope=col>TP</th><th scope=col>size</th></tr></thead>\n",
       "<tbody>\n",
       "\t<tr><td> 1       </td><td>0.7344322</td><td>0.7578348</td><td>0.7971014</td><td>0.8248062</td><td>0.7689162</td><td>0.9047619</td><td>0.5641026</td><td>12.29412 </td><td> 28      </td><td> 110     </td><td> 85      </td><td> 266     </td><td> 489     </td></tr>\n",
       "\t<tr><td> 2       </td><td>0.7789116</td><td>0.7879656</td><td>0.8652482</td><td>0.8553655</td><td>0.8102041</td><td>0.9353741</td><td>0.6224490</td><td>23.86202 </td><td> 19      </td><td> 122     </td><td> 74      </td><td> 275     </td><td> 490     </td></tr>\n",
       "\t<tr><td> 3       </td><td>0.7531920</td><td>0.7698864</td><td>0.8321168</td><td>0.8390093</td><td>0.7873211</td><td>0.9217687</td><td>0.5846154</td><td>16.58293 </td><td> 23      </td><td> 114     </td><td> 81      </td><td> 271     </td><td> 489     </td></tr>\n",
       "\t<tr><td> 4       </td><td>0.7482993</td><td>0.7738095</td><td>0.7792208</td><td>0.8253968</td><td>0.7755102</td><td>0.8843537</td><td>0.6122449</td><td>12.07430 </td><td> 34      </td><td> 120     </td><td> 76      </td><td> 260     </td><td> 490     </td></tr>\n",
       "\t<tr><td> 5       </td><td>0.7822344</td><td>0.7936047</td><td>0.8551724</td><td>0.8557994</td><td>0.8118609</td><td>0.9285714</td><td>0.6358974</td><td>22.70423 </td><td> 21      </td><td> 124     </td><td> 71      </td><td> 273     </td><td> 489     </td></tr>\n",
       "\t<tr><td> 6       </td><td>0.7788854</td><td>0.7981928</td><td>0.8152866</td><td>0.8466454</td><td>0.8036810</td><td>0.9013605</td><td>0.6564103</td><td>17.45754 </td><td> 29      </td><td> 128     </td><td> 67      </td><td> 265     </td><td> 489     </td></tr>\n",
       "\t<tr><td> 7       </td><td>0.7841373</td><td>0.8005952</td><td>0.8311688</td><td>0.8526149</td><td>0.8102041</td><td>0.9118644</td><td>0.6564103</td><td>19.76579 </td><td> 26      </td><td> 128     </td><td> 67      </td><td> 269     </td><td> 490     </td></tr>\n",
       "\t<tr><td> 8       </td><td>0.8054160</td><td>0.8285714</td><td>0.8103448</td><td>0.8571429</td><td>0.8220859</td><td>0.8877551</td><td>0.7230769</td><td>20.65152 </td><td> 33      </td><td> 141     </td><td> 54      </td><td> 261     </td><td> 489     </td></tr>\n",
       "\t<tr><td> 9       </td><td>0.7781834</td><td>0.7970149</td><td>0.8193548</td><td>0.8476190</td><td>0.8040816</td><td>0.9050847</td><td>0.6512821</td><td>17.80935 </td><td> 28      </td><td> 127     </td><td> 68      </td><td> 267     </td><td> 490     </td></tr>\n",
       "\t<tr><td>10       </td><td>0.7583726</td><td>0.7794118</td><td>0.8053691</td><td>0.8359621</td><td>0.7873211</td><td>0.9013605</td><td>0.6153846</td><td>14.62069 </td><td> 29      </td><td> 120     </td><td> 75      </td><td> 265     </td><td> 489     </td></tr>\n",
       "\t<tr><td>NA       </td><td>0.7702064</td><td>0.7882006</td><td>0.8204787</td><td>0.8439672</td><td>0.7981201</td><td>0.9082257</td><td>0.6321721</td><td>17.00840 </td><td>270      </td><td>1234     </td><td>718      </td><td>2672     </td><td>4894     </td></tr>\n",
       "</tbody>\n",
       "</table>\n"
      ],
      "text/latex": [
       "\\begin{tabular}{llllllllllllll}\n",
       " model\\_num & roc\\_auc & PPV & NPV & F1 & accuracy & sensitivity & specificity & odds\\_ratio & FN & TN & FP & TP & size\\\\\n",
       "\\hline\n",
       "\t  1        & 0.7344322 & 0.7578348 & 0.7971014 & 0.8248062 & 0.7689162 & 0.9047619 & 0.5641026 & 12.29412  &  28       &  110      &  85       &  266      &  489     \\\\\n",
       "\t  2        & 0.7789116 & 0.7879656 & 0.8652482 & 0.8553655 & 0.8102041 & 0.9353741 & 0.6224490 & 23.86202  &  19       &  122      &  74       &  275      &  490     \\\\\n",
       "\t  3        & 0.7531920 & 0.7698864 & 0.8321168 & 0.8390093 & 0.7873211 & 0.9217687 & 0.5846154 & 16.58293  &  23       &  114      &  81       &  271      &  489     \\\\\n",
       "\t  4        & 0.7482993 & 0.7738095 & 0.7792208 & 0.8253968 & 0.7755102 & 0.8843537 & 0.6122449 & 12.07430  &  34       &  120      &  76       &  260      &  490     \\\\\n",
       "\t  5        & 0.7822344 & 0.7936047 & 0.8551724 & 0.8557994 & 0.8118609 & 0.9285714 & 0.6358974 & 22.70423  &  21       &  124      &  71       &  273      &  489     \\\\\n",
       "\t  6        & 0.7788854 & 0.7981928 & 0.8152866 & 0.8466454 & 0.8036810 & 0.9013605 & 0.6564103 & 17.45754  &  29       &  128      &  67       &  265      &  489     \\\\\n",
       "\t  7        & 0.7841373 & 0.8005952 & 0.8311688 & 0.8526149 & 0.8102041 & 0.9118644 & 0.6564103 & 19.76579  &  26       &  128      &  67       &  269      &  490     \\\\\n",
       "\t  8        & 0.8054160 & 0.8285714 & 0.8103448 & 0.8571429 & 0.8220859 & 0.8877551 & 0.7230769 & 20.65152  &  33       &  141      &  54       &  261      &  489     \\\\\n",
       "\t  9        & 0.7781834 & 0.7970149 & 0.8193548 & 0.8476190 & 0.8040816 & 0.9050847 & 0.6512821 & 17.80935  &  28       &  127      &  68       &  267      &  490     \\\\\n",
       "\t 10        & 0.7583726 & 0.7794118 & 0.8053691 & 0.8359621 & 0.7873211 & 0.9013605 & 0.6153846 & 14.62069  &  29       &  120      &  75       &  265      &  489     \\\\\n",
       "\t NA        & 0.7702064 & 0.7882006 & 0.8204787 & 0.8439672 & 0.7981201 & 0.9082257 & 0.6321721 & 17.00840  & 270       & 1234      & 718       & 2672      & 4894     \\\\\n",
       "\\end{tabular}\n"
      ],
      "text/markdown": [
       "\n",
       "| model_num | roc_auc | PPV | NPV | F1 | accuracy | sensitivity | specificity | odds_ratio | FN | TN | FP | TP | size |\n",
       "|---|---|---|---|---|---|---|---|---|---|---|---|---|---|\n",
       "|  1        | 0.7344322 | 0.7578348 | 0.7971014 | 0.8248062 | 0.7689162 | 0.9047619 | 0.5641026 | 12.29412  |  28       |  110      |  85       |  266      |  489      |\n",
       "|  2        | 0.7789116 | 0.7879656 | 0.8652482 | 0.8553655 | 0.8102041 | 0.9353741 | 0.6224490 | 23.86202  |  19       |  122      |  74       |  275      |  490      |\n",
       "|  3        | 0.7531920 | 0.7698864 | 0.8321168 | 0.8390093 | 0.7873211 | 0.9217687 | 0.5846154 | 16.58293  |  23       |  114      |  81       |  271      |  489      |\n",
       "|  4        | 0.7482993 | 0.7738095 | 0.7792208 | 0.8253968 | 0.7755102 | 0.8843537 | 0.6122449 | 12.07430  |  34       |  120      |  76       |  260      |  490      |\n",
       "|  5        | 0.7822344 | 0.7936047 | 0.8551724 | 0.8557994 | 0.8118609 | 0.9285714 | 0.6358974 | 22.70423  |  21       |  124      |  71       |  273      |  489      |\n",
       "|  6        | 0.7788854 | 0.7981928 | 0.8152866 | 0.8466454 | 0.8036810 | 0.9013605 | 0.6564103 | 17.45754  |  29       |  128      |  67       |  265      |  489      |\n",
       "|  7        | 0.7841373 | 0.8005952 | 0.8311688 | 0.8526149 | 0.8102041 | 0.9118644 | 0.6564103 | 19.76579  |  26       |  128      |  67       |  269      |  490      |\n",
       "|  8        | 0.8054160 | 0.8285714 | 0.8103448 | 0.8571429 | 0.8220859 | 0.8877551 | 0.7230769 | 20.65152  |  33       |  141      |  54       |  261      |  489      |\n",
       "|  9        | 0.7781834 | 0.7970149 | 0.8193548 | 0.8476190 | 0.8040816 | 0.9050847 | 0.6512821 | 17.80935  |  28       |  127      |  68       |  267      |  490      |\n",
       "| 10        | 0.7583726 | 0.7794118 | 0.8053691 | 0.8359621 | 0.7873211 | 0.9013605 | 0.6153846 | 14.62069  |  29       |  120      |  75       |  265      |  489      |\n",
       "| NA        | 0.7702064 | 0.7882006 | 0.8204787 | 0.8439672 | 0.7981201 | 0.9082257 | 0.6321721 | 17.00840  | 270       | 1234      | 718       | 2672      | 4894      |\n",
       "\n"
      ],
      "text/plain": [
       "      model_num roc_auc   PPV       NPV       F1        accuracy  sensitivity\n",
       " [1,]  1        0.7344322 0.7578348 0.7971014 0.8248062 0.7689162 0.9047619  \n",
       " [2,]  2        0.7789116 0.7879656 0.8652482 0.8553655 0.8102041 0.9353741  \n",
       " [3,]  3        0.7531920 0.7698864 0.8321168 0.8390093 0.7873211 0.9217687  \n",
       " [4,]  4        0.7482993 0.7738095 0.7792208 0.8253968 0.7755102 0.8843537  \n",
       " [5,]  5        0.7822344 0.7936047 0.8551724 0.8557994 0.8118609 0.9285714  \n",
       " [6,]  6        0.7788854 0.7981928 0.8152866 0.8466454 0.8036810 0.9013605  \n",
       " [7,]  7        0.7841373 0.8005952 0.8311688 0.8526149 0.8102041 0.9118644  \n",
       " [8,]  8        0.8054160 0.8285714 0.8103448 0.8571429 0.8220859 0.8877551  \n",
       " [9,]  9        0.7781834 0.7970149 0.8193548 0.8476190 0.8040816 0.9050847  \n",
       "[10,] 10        0.7583726 0.7794118 0.8053691 0.8359621 0.7873211 0.9013605  \n",
       "[11,] NA        0.7702064 0.7882006 0.8204787 0.8439672 0.7981201 0.9082257  \n",
       "      specificity odds_ratio FN  TN   FP  TP   size\n",
       " [1,] 0.5641026   12.29412    28  110  85  266  489\n",
       " [2,] 0.6224490   23.86202    19  122  74  275  490\n",
       " [3,] 0.5846154   16.58293    23  114  81  271  489\n",
       " [4,] 0.6122449   12.07430    34  120  76  260  490\n",
       " [5,] 0.6358974   22.70423    21  124  71  273  489\n",
       " [6,] 0.6564103   17.45754    29  128  67  265  489\n",
       " [7,] 0.6564103   19.76579    26  128  67  269  490\n",
       " [8,] 0.7230769   20.65152    33  141  54  261  489\n",
       " [9,] 0.6512821   17.80935    28  127  68  267  490\n",
       "[10,] 0.6153846   14.62069    29  120  75  265  489\n",
       "[11,] 0.6321721   17.00840   270 1234 718 2672 4894"
      ]
     },
     "metadata": {},
     "output_type": "display_data"
    }
   ],
   "source": [
    "result_table"
   ]
  },
  {
   "cell_type": "code",
   "execution_count": 12,
   "metadata": {},
   "outputs": [
    {
     "data": {
      "text/html": [
       "<table>\n",
       "<thead><tr><th scope=col>model_num</th><th scope=col>roc_auc</th><th scope=col>PPV</th><th scope=col>NPV</th><th scope=col>F1</th><th scope=col>accuracy</th><th scope=col>sensitivity</th><th scope=col>specificity</th><th scope=col>odds_ratio</th><th scope=col>FN</th><th scope=col>TN</th><th scope=col>FP</th><th scope=col>TP</th><th scope=col>size</th></tr></thead>\n",
       "<tbody>\n",
       "\t<tr><td> 1     </td><td>0.7344 </td><td>0.7578 </td><td>0.7971 </td><td>0.8248 </td><td>0.7689 </td><td>0.9048 </td><td>0.5641 </td><td>12.2941</td><td> 28    </td><td> 110   </td><td> 85    </td><td> 266   </td><td> 489   </td></tr>\n",
       "\t<tr><td> 2     </td><td>0.7789 </td><td>0.7880 </td><td>0.8652 </td><td>0.8554 </td><td>0.8102 </td><td>0.9354 </td><td>0.6224 </td><td>23.8620</td><td> 19    </td><td> 122   </td><td> 74    </td><td> 275   </td><td> 490   </td></tr>\n",
       "\t<tr><td> 3     </td><td>0.7532 </td><td>0.7699 </td><td>0.8321 </td><td>0.8390 </td><td>0.7873 </td><td>0.9218 </td><td>0.5846 </td><td>16.5829</td><td> 23    </td><td> 114   </td><td> 81    </td><td> 271   </td><td> 489   </td></tr>\n",
       "\t<tr><td> 4     </td><td>0.7483 </td><td>0.7738 </td><td>0.7792 </td><td>0.8254 </td><td>0.7755 </td><td>0.8844 </td><td>0.6122 </td><td>12.0743</td><td> 34    </td><td> 120   </td><td> 76    </td><td> 260   </td><td> 490   </td></tr>\n",
       "\t<tr><td> 5     </td><td>0.7822 </td><td>0.7936 </td><td>0.8552 </td><td>0.8558 </td><td>0.8119 </td><td>0.9286 </td><td>0.6359 </td><td>22.7042</td><td> 21    </td><td> 124   </td><td> 71    </td><td> 273   </td><td> 489   </td></tr>\n",
       "\t<tr><td> 6     </td><td>0.7789 </td><td>0.7982 </td><td>0.8153 </td><td>0.8466 </td><td>0.8037 </td><td>0.9014 </td><td>0.6564 </td><td>17.4575</td><td> 29    </td><td> 128   </td><td> 67    </td><td> 265   </td><td> 489   </td></tr>\n",
       "\t<tr><td> 7     </td><td>0.7841 </td><td>0.8006 </td><td>0.8312 </td><td>0.8526 </td><td>0.8102 </td><td>0.9119 </td><td>0.6564 </td><td>19.7658</td><td> 26    </td><td> 128   </td><td> 67    </td><td> 269   </td><td> 490   </td></tr>\n",
       "\t<tr><td> 8     </td><td>0.8054 </td><td>0.8286 </td><td>0.8103 </td><td>0.8571 </td><td>0.8221 </td><td>0.8878 </td><td>0.7231 </td><td>20.6515</td><td> 33    </td><td> 141   </td><td> 54    </td><td> 261   </td><td> 489   </td></tr>\n",
       "\t<tr><td> 9     </td><td>0.7782 </td><td>0.7970 </td><td>0.8194 </td><td>0.8476 </td><td>0.8041 </td><td>0.9051 </td><td>0.6513 </td><td>17.8093</td><td> 28    </td><td> 127   </td><td> 68    </td><td> 267   </td><td> 490   </td></tr>\n",
       "\t<tr><td>10     </td><td>0.7584 </td><td>0.7794 </td><td>0.8054 </td><td>0.8360 </td><td>0.7873 </td><td>0.9014 </td><td>0.6154 </td><td>14.6207</td><td> 29    </td><td> 120   </td><td> 75    </td><td> 265   </td><td> 489   </td></tr>\n",
       "\t<tr><td>NA     </td><td>0.7702 </td><td>0.7882 </td><td>0.8205 </td><td>0.8440 </td><td>0.7981 </td><td>0.9082 </td><td>0.6322 </td><td>17.0084</td><td>270    </td><td>1234   </td><td>718    </td><td>2672   </td><td>4894   </td></tr>\n",
       "</tbody>\n",
       "</table>\n"
      ],
      "text/latex": [
       "\\begin{tabular}{llllllllllllll}\n",
       " model\\_num & roc\\_auc & PPV & NPV & F1 & accuracy & sensitivity & specificity & odds\\_ratio & FN & TN & FP & TP & size\\\\\n",
       "\\hline\n",
       "\t  1      & 0.7344  & 0.7578  & 0.7971  & 0.8248  & 0.7689  & 0.9048  & 0.5641  & 12.2941 &  28     &  110    &  85     &  266    &  489   \\\\\n",
       "\t  2      & 0.7789  & 0.7880  & 0.8652  & 0.8554  & 0.8102  & 0.9354  & 0.6224  & 23.8620 &  19     &  122    &  74     &  275    &  490   \\\\\n",
       "\t  3      & 0.7532  & 0.7699  & 0.8321  & 0.8390  & 0.7873  & 0.9218  & 0.5846  & 16.5829 &  23     &  114    &  81     &  271    &  489   \\\\\n",
       "\t  4      & 0.7483  & 0.7738  & 0.7792  & 0.8254  & 0.7755  & 0.8844  & 0.6122  & 12.0743 &  34     &  120    &  76     &  260    &  490   \\\\\n",
       "\t  5      & 0.7822  & 0.7936  & 0.8552  & 0.8558  & 0.8119  & 0.9286  & 0.6359  & 22.7042 &  21     &  124    &  71     &  273    &  489   \\\\\n",
       "\t  6      & 0.7789  & 0.7982  & 0.8153  & 0.8466  & 0.8037  & 0.9014  & 0.6564  & 17.4575 &  29     &  128    &  67     &  265    &  489   \\\\\n",
       "\t  7      & 0.7841  & 0.8006  & 0.8312  & 0.8526  & 0.8102  & 0.9119  & 0.6564  & 19.7658 &  26     &  128    &  67     &  269    &  490   \\\\\n",
       "\t  8      & 0.8054  & 0.8286  & 0.8103  & 0.8571  & 0.8221  & 0.8878  & 0.7231  & 20.6515 &  33     &  141    &  54     &  261    &  489   \\\\\n",
       "\t  9      & 0.7782  & 0.7970  & 0.8194  & 0.8476  & 0.8041  & 0.9051  & 0.6513  & 17.8093 &  28     &  127    &  68     &  267    &  490   \\\\\n",
       "\t 10      & 0.7584  & 0.7794  & 0.8054  & 0.8360  & 0.7873  & 0.9014  & 0.6154  & 14.6207 &  29     &  120    &  75     &  265    &  489   \\\\\n",
       "\t NA      & 0.7702  & 0.7882  & 0.8205  & 0.8440  & 0.7981  & 0.9082  & 0.6322  & 17.0084 & 270     & 1234    & 718     & 2672    & 4894   \\\\\n",
       "\\end{tabular}\n"
      ],
      "text/markdown": [
       "\n",
       "| model_num | roc_auc | PPV | NPV | F1 | accuracy | sensitivity | specificity | odds_ratio | FN | TN | FP | TP | size |\n",
       "|---|---|---|---|---|---|---|---|---|---|---|---|---|---|\n",
       "|  1      | 0.7344  | 0.7578  | 0.7971  | 0.8248  | 0.7689  | 0.9048  | 0.5641  | 12.2941 |  28     |  110    |  85     |  266    |  489    |\n",
       "|  2      | 0.7789  | 0.7880  | 0.8652  | 0.8554  | 0.8102  | 0.9354  | 0.6224  | 23.8620 |  19     |  122    |  74     |  275    |  490    |\n",
       "|  3      | 0.7532  | 0.7699  | 0.8321  | 0.8390  | 0.7873  | 0.9218  | 0.5846  | 16.5829 |  23     |  114    |  81     |  271    |  489    |\n",
       "|  4      | 0.7483  | 0.7738  | 0.7792  | 0.8254  | 0.7755  | 0.8844  | 0.6122  | 12.0743 |  34     |  120    |  76     |  260    |  490    |\n",
       "|  5      | 0.7822  | 0.7936  | 0.8552  | 0.8558  | 0.8119  | 0.9286  | 0.6359  | 22.7042 |  21     |  124    |  71     |  273    |  489    |\n",
       "|  6      | 0.7789  | 0.7982  | 0.8153  | 0.8466  | 0.8037  | 0.9014  | 0.6564  | 17.4575 |  29     |  128    |  67     |  265    |  489    |\n",
       "|  7      | 0.7841  | 0.8006  | 0.8312  | 0.8526  | 0.8102  | 0.9119  | 0.6564  | 19.7658 |  26     |  128    |  67     |  269    |  490    |\n",
       "|  8      | 0.8054  | 0.8286  | 0.8103  | 0.8571  | 0.8221  | 0.8878  | 0.7231  | 20.6515 |  33     |  141    |  54     |  261    |  489    |\n",
       "|  9      | 0.7782  | 0.7970  | 0.8194  | 0.8476  | 0.8041  | 0.9051  | 0.6513  | 17.8093 |  28     |  127    |  68     |  267    |  490    |\n",
       "| 10      | 0.7584  | 0.7794  | 0.8054  | 0.8360  | 0.7873  | 0.9014  | 0.6154  | 14.6207 |  29     |  120    |  75     |  265    |  489    |\n",
       "| NA      | 0.7702  | 0.7882  | 0.8205  | 0.8440  | 0.7981  | 0.9082  | 0.6322  | 17.0084 | 270     | 1234    | 718     | 2672    | 4894    |\n",
       "\n"
      ],
      "text/plain": [
       "      model_num roc_auc PPV    NPV    F1     accuracy sensitivity specificity\n",
       " [1,]  1        0.7344  0.7578 0.7971 0.8248 0.7689   0.9048      0.5641     \n",
       " [2,]  2        0.7789  0.7880 0.8652 0.8554 0.8102   0.9354      0.6224     \n",
       " [3,]  3        0.7532  0.7699 0.8321 0.8390 0.7873   0.9218      0.5846     \n",
       " [4,]  4        0.7483  0.7738 0.7792 0.8254 0.7755   0.8844      0.6122     \n",
       " [5,]  5        0.7822  0.7936 0.8552 0.8558 0.8119   0.9286      0.6359     \n",
       " [6,]  6        0.7789  0.7982 0.8153 0.8466 0.8037   0.9014      0.6564     \n",
       " [7,]  7        0.7841  0.8006 0.8312 0.8526 0.8102   0.9119      0.6564     \n",
       " [8,]  8        0.8054  0.8286 0.8103 0.8571 0.8221   0.8878      0.7231     \n",
       " [9,]  9        0.7782  0.7970 0.8194 0.8476 0.8041   0.9051      0.6513     \n",
       "[10,] 10        0.7584  0.7794 0.8054 0.8360 0.7873   0.9014      0.6154     \n",
       "[11,] NA        0.7702  0.7882 0.8205 0.8440 0.7981   0.9082      0.6322     \n",
       "      odds_ratio FN  TN   FP  TP   size\n",
       " [1,] 12.2941     28  110  85  266  489\n",
       " [2,] 23.8620     19  122  74  275  490\n",
       " [3,] 16.5829     23  114  81  271  489\n",
       " [4,] 12.0743     34  120  76  260  490\n",
       " [5,] 22.7042     21  124  71  273  489\n",
       " [6,] 17.4575     29  128  67  265  489\n",
       " [7,] 19.7658     26  128  67  269  490\n",
       " [8,] 20.6515     33  141  54  261  489\n",
       " [9,] 17.8093     28  127  68  267  490\n",
       "[10,] 14.6207     29  120  75  265  489\n",
       "[11,] 17.0084    270 1234 718 2672 4894"
      ]
     },
     "metadata": {},
     "output_type": "display_data"
    }
   ],
   "source": [
    "round_df <- function(x, digits) {\n",
    "    # round all numeric variables\n",
    "    # x: data frame \n",
    "    # digits: number of digits to round\n",
    "    y = x\n",
    "    numeric_columns <- sapply(x, mode) == 'numeric'\n",
    "    y[numeric_columns] <- round(x[numeric_columns], digits)\n",
    "    y\n",
    "}\n",
    "\n",
    "round_df(result_table, 4)"
   ]
  },
  {
   "cell_type": "code",
   "execution_count": null,
   "metadata": {},
   "outputs": [],
   "source": []
  }
 ],
 "metadata": {
  "kernelspec": {
   "display_name": "R",
   "language": "R",
   "name": "ir"
  },
  "language_info": {
   "codemirror_mode": "r",
   "file_extension": ".r",
   "mimetype": "text/x-r-source",
   "name": "R",
   "pygments_lexer": "r",
   "version": "3.6.1"
  }
 },
 "nbformat": 4,
 "nbformat_minor": 2
}
