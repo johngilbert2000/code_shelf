{
 "cells": [
  {
   "cell_type": "markdown",
   "metadata": {},
   "source": [
    "# Decision Trees for Predicting Dengue Fever: Subgroup Assessment"
   ]
  },
  {
   "cell_type": "markdown",
   "metadata": {},
   "source": [
    "**Abstract:** A decision tree was trained on tabular medical data (age, temperature, WBC exam score, Plt exam score) to predict whether or not patients had dengue fever. Datasets were split according to various features to assess the model's predictive stability. Dengue fever is a serious illness that is initially not easily detectable, and initial symptoms tend to be similar to those of the flu. The advantage of using decision trees to predict the existence dengue fever in patients, as opposed to using other machine learning methods, is the method can be easily understood by doctors and is easily interpretable."
   ]
  },
  {
   "cell_type": "markdown",
   "metadata": {
    "heading_collapsed": true
   },
   "source": [
    "## Theory"
   ]
  },
  {
   "cell_type": "markdown",
   "metadata": {
    "hidden": true
   },
   "source": [
    "### Decision Trees"
   ]
  },
  {
   "cell_type": "markdown",
   "metadata": {
    "hidden": true
   },
   "source": [
    "Decision trees, or Classification and Regression Trees (CART), are widely-used machine learning tools that involve successively separating a set of samples into subsets or nodes of a tree. Typically, each node is separated into two subsequent nodes until there are no samples left to separate, or until a max-depth is reached for the tree. The nodes are split based upon a condition or characteristic that influences the dependent variable the most for samples in that node. In training, the most influential conditions are determined for each node when the tree is constructed, thereby grouping similar samples together into nodes, with similarity increasing with each split, (i.e., with increasing depth of the tree). Each node is classified based upon the most common value for the dependent variable in that node, thereby giving the nodes predictive power over the samples grouped into them. After the tree is constructed, the conditions that were used to split the nodes of the training set can be applied to similar datasets to group similar samples together, after which predictions can be made for samples based upon their nodes.\n",
    "\n",
    "Note that while sample similarity for nodes of the tree increase as the depth of the tree increases, a tree that is too deep will overfit and describe conditions specific only to the training set. Thus, controlling the max-depth of the tree is a technique used to prevent overfitting, thereby forcing the tree to model more general trends inherent in the data."
   ]
  },
  {
   "cell_type": "markdown",
   "metadata": {
    "hidden": true
   },
   "source": [
    "### Subgroups"
   ]
  },
  {
   "cell_type": "markdown",
   "metadata": {
    "hidden": true
   },
   "source": [
    "#### n-Fold Cross Validation: Training Multiple Models\n",
    "\n",
    "In n-fold cross validation, the overall dataset is split into equal parts for the purpose of training multiple models, such that all of the data is used at least once in a validation set. The confusion matrices (true negatives, false positives, false negatives, true positives) for each model are then added together to calculate the overall metrics of the model.\n",
    "\n",
    "For this experiment, 5-fold cross validation was performed. The dataset was split into five equal subsets (each 20% of original dataset). The subsets were grouped into five validation sets (20% of original dataset) and five training sets (80% of original dataset, i.e., original dataset minus validation set). Five logistic regression models were trained and then assessed with corresponding validation sets. The resulting five confusion matrices were summed, producing an overall confusion matrix that would be used to calculate overall metrics.\n",
    "\n",
    "#### Validation Subgroup Analysis\n",
    "\n",
    "The validation datasets of each model were split into multiple subgroups based on various features, *(Age, Gender, Epidemic periods, Body Temp, White Blood Cells, Platelet, Comorbidities, coming to ER)*, to assess stability of the model accross datasets. The subgroup confusion matrices were summed across multiple models, resulting in overall confusion matrices for each subgroup. Confusion matrices were then used to calculate overall metrics for each subgroup."
   ]
  },
  {
   "cell_type": "markdown",
   "metadata": {},
   "source": [
    "## Setup\n"
   ]
  },
  {
   "cell_type": "markdown",
   "metadata": {},
   "source": [
    "This notebook was originally written with the following versions:\n",
    "\n",
    "    'R version 3.6.1 (2019-07-05)'\n",
    "    'rpart 4.1.15'\n",
    "    'rpart 4.1.15'\n",
    "    'rpart.plot 3.0.8'\n",
    "    'caTools 1.17.1.2'\n",
    "    'caret 6.0.83'\n",
    "    'data.table 1.12.2'\n",
    "    'pROC 1.15.3'\n",
    "    "
   ]
  },
  {
   "cell_type": "code",
   "execution_count": 1,
   "metadata": {},
   "outputs": [
    {
     "data": {
      "text/html": [
       "'R version 3.6.1 (2019-07-05)'"
      ],
      "text/latex": [
       "'R version 3.6.1 (2019-07-05)'"
      ],
      "text/markdown": [
       "'R version 3.6.1 (2019-07-05)'"
      ],
      "text/plain": [
       "[1] \"R version 3.6.1 (2019-07-05)\""
      ]
     },
     "metadata": {},
     "output_type": "display_data"
    },
    {
     "data": {
      "text/html": [
       "'rpart 4.1.15'"
      ],
      "text/latex": [
       "'rpart 4.1.15'"
      ],
      "text/markdown": [
       "'rpart 4.1.15'"
      ],
      "text/plain": [
       "[1] \"rpart 4.1.15\""
      ]
     },
     "metadata": {},
     "output_type": "display_data"
    },
    {
     "data": {
      "text/html": [
       "'rpart 4.1.15'"
      ],
      "text/latex": [
       "'rpart 4.1.15'"
      ],
      "text/markdown": [
       "'rpart 4.1.15'"
      ],
      "text/plain": [
       "[1] \"rpart 4.1.15\""
      ]
     },
     "metadata": {},
     "output_type": "display_data"
    },
    {
     "data": {
      "text/html": [
       "'rpart.plot 3.0.8'"
      ],
      "text/latex": [
       "'rpart.plot 3.0.8'"
      ],
      "text/markdown": [
       "'rpart.plot 3.0.8'"
      ],
      "text/plain": [
       "[1] \"rpart.plot 3.0.8\""
      ]
     },
     "metadata": {},
     "output_type": "display_data"
    },
    {
     "data": {
      "text/html": [
       "'caTools 1.17.1.2'"
      ],
      "text/latex": [
       "'caTools 1.17.1.2'"
      ],
      "text/markdown": [
       "'caTools 1.17.1.2'"
      ],
      "text/plain": [
       "[1] \"caTools 1.17.1.2\""
      ]
     },
     "metadata": {},
     "output_type": "display_data"
    },
    {
     "data": {
      "text/html": [
       "'caret 6.0.83'"
      ],
      "text/latex": [
       "'caret 6.0.83'"
      ],
      "text/markdown": [
       "'caret 6.0.83'"
      ],
      "text/plain": [
       "[1] \"caret 6.0.83\""
      ]
     },
     "metadata": {},
     "output_type": "display_data"
    },
    {
     "data": {
      "text/html": [
       "'data.table 1.12.2'"
      ],
      "text/latex": [
       "'data.table 1.12.2'"
      ],
      "text/markdown": [
       "'data.table 1.12.2'"
      ],
      "text/plain": [
       "[1] \"data.table 1.12.2\""
      ]
     },
     "metadata": {},
     "output_type": "display_data"
    },
    {
     "data": {
      "text/html": [
       "'pROC 1.15.3'"
      ],
      "text/latex": [
       "'pROC 1.15.3'"
      ],
      "text/markdown": [
       "'pROC 1.15.3'"
      ],
      "text/plain": [
       "[1] \"pROC 1.15.3\""
      ]
     },
     "metadata": {},
     "output_type": "display_data"
    }
   ],
   "source": [
    "# Check your versions\n",
    "version$version.string;\n",
    "paste(\"rpart\", packageVersion(\"rpart\"));\n",
    "paste(\"rpart\", packageVersion(\"rpart\"));\n",
    "paste(\"rpart.plot\", packageVersion(\"rpart.plot\"));\n",
    "paste(\"caTools\", packageVersion(\"caTools\"));\n",
    "paste(\"caret\", packageVersion(\"caret\"));\n",
    "paste(\"data.table\", packageVersion(\"data.table\"));\n",
    "paste(\"pROC\", packageVersion(\"pROC\"));"
   ]
  },
  {
   "cell_type": "markdown",
   "metadata": {},
   "source": [
    "##### Prepare Notebook"
   ]
  },
  {
   "cell_type": "code",
   "execution_count": 2,
   "metadata": {},
   "outputs": [
    {
     "name": "stderr",
     "output_type": "stream",
     "text": [
      "Loading required package: lattice\n",
      "Loading required package: ggplot2\n",
      "Registered S3 methods overwritten by 'ggplot2':\n",
      "  method         from \n",
      "  [.quosures     rlang\n",
      "  c.quosures     rlang\n",
      "  print.quosures rlang\n",
      "Type 'citation(\"pROC\")' for a citation.\n",
      "\n",
      "Attaching package: ‘pROC’\n",
      "\n",
      "The following objects are masked from ‘package:stats’:\n",
      "\n",
      "    cov, smooth, var\n",
      "\n"
     ]
    }
   ],
   "source": [
    "# Import Libraries\n",
    "library(rpart)\n",
    "library(rpart.plot)\n",
    "library(caTools)\n",
    "\n",
    "library(caret)\n",
    "library(data.table)\n",
    "library(pROC)\n",
    "# library(tidyverse)\n",
    "\n",
    "# Data Information\n",
    "# filename <- 'patient_year_vital_lab_exam_add-on_death_outcome_comorbidity_TCIC_dengue_suspected_bmi_ER_label_missing_mask.csv'\n",
    "filename <- 'patients_cleaned.csv'\n",
    "path <- '../mydata/'\n",
    "pathfile <- paste(path,filename,sep='')"
   ]
  },
  {
   "cell_type": "code",
   "execution_count": 3,
   "metadata": {},
   "outputs": [],
   "source": [
    "# View all CSV column names\n",
    "\n",
    "# df <- read.csv(pathfile)\n",
    "# names(df)"
   ]
  },
  {
   "cell_type": "markdown",
   "metadata": {},
   "source": [
    "## Parameters"
   ]
  },
  {
   "cell_type": "code",
   "execution_count": 4,
   "metadata": {},
   "outputs": [],
   "source": [
    "splits = 10 # number of folds for cross validation\n",
    "recalls = c(0.85,0.90,0.95) # sensitivities used for calculating results\n",
    "iters = 20 # iterations experiment is run\n",
    "\n",
    "# Imported columns from CSV\n",
    "desired_cols = c('age','sex','Temp','exam_WBC','exam_Plt', 'Opd_Visit_Date',\n",
    "                'ER', 'Heart Disease', 'CVA', 'CKD', 'Severe Liver Disease', \n",
    "                'DM', 'Hypertension', 'Cancer without Metastasis', 'Cancer with Metastasis',\n",
    "                'lab_result')\n",
    "\n",
    "# Features used for training + dependent variable\n",
    "train_cols = c('age','Temp','exam_WBC','exam_Plt','lab_result')\n",
    "\n",
    "\n",
    "# Features used for creating validation subgroups (includes features from train_cols)\n",
    "subgroup_cols = c('age','sex','Temp','exam_WBC','exam_Plt', 'week',\n",
    "                'ER', 'Heart Disease', 'CVA', 'CKD', 'Severe Liver Disease', \n",
    "                'DM', 'Hypertension', 'Cancer without Metastasis', 'Cancer with Metastasis',\n",
    "                'lab_result')\n",
    "\n",
    "prior <- seq(0.1, 0.9, 0.008)\n",
    "\n",
    "# Columns to be dropped after creating validation subgroups\n",
    "# drop_cols = list(set(subgroup_cols) - set(train_cols))"
   ]
  },
  {
   "cell_type": "markdown",
   "metadata": {},
   "source": [
    "## Data Preparation"
   ]
  },
  {
   "cell_type": "code",
   "execution_count": 5,
   "metadata": {},
   "outputs": [
    {
     "name": "stdout",
     "output_type": "stream",
     "text": [
      "[1] 4894\n"
     ]
    },
    {
     "data": {
      "text/html": [
       "<table>\n",
       "<thead><tr><th></th><th scope=col>age</th><th scope=col>Temp</th><th scope=col>exam_WBC</th><th scope=col>exam_Plt</th><th scope=col>lab_result</th></tr></thead>\n",
       "<tbody>\n",
       "\t<tr><th scope=row>2647</th><td>70   </td><td>36.9 </td><td>5.0  </td><td> 62  </td><td>False</td></tr>\n",
       "\t<tr><th scope=row>1859</th><td>39   </td><td>37.0 </td><td>9.4  </td><td>123  </td><td>False</td></tr>\n",
       "\t<tr><th scope=row>2484</th><td>22   </td><td>37.3 </td><td>4.8  </td><td>153  </td><td>False</td></tr>\n",
       "\t<tr><th scope=row>4399</th><td>68   </td><td>38.2 </td><td>2.7  </td><td> 57  </td><td>True </td></tr>\n",
       "\t<tr><th scope=row>4042</th><td>66   </td><td>39.1 </td><td>7.1  </td><td>202  </td><td>True </td></tr>\n",
       "\t<tr><th scope=row>117</th><td>36   </td><td>39.3 </td><td>9.9  </td><td>247  </td><td>True </td></tr>\n",
       "</tbody>\n",
       "</table>\n"
      ],
      "text/latex": [
       "\\begin{tabular}{r|lllll}\n",
       "  & age & Temp & exam\\_WBC & exam\\_Plt & lab\\_result\\\\\n",
       "\\hline\n",
       "\t2647 & 70    & 36.9  & 5.0   &  62   & False\\\\\n",
       "\t1859 & 39    & 37.0  & 9.4   & 123   & False\\\\\n",
       "\t2484 & 22    & 37.3  & 4.8   & 153   & False\\\\\n",
       "\t4399 & 68    & 38.2  & 2.7   &  57   & True \\\\\n",
       "\t4042 & 66    & 39.1  & 7.1   & 202   & True \\\\\n",
       "\t117 & 36    & 39.3  & 9.9   & 247   & True \\\\\n",
       "\\end{tabular}\n"
      ],
      "text/markdown": [
       "\n",
       "| <!--/--> | age | Temp | exam_WBC | exam_Plt | lab_result |\n",
       "|---|---|---|---|---|---|\n",
       "| 2647 | 70    | 36.9  | 5.0   |  62   | False |\n",
       "| 1859 | 39    | 37.0  | 9.4   | 123   | False |\n",
       "| 2484 | 22    | 37.3  | 4.8   | 153   | False |\n",
       "| 4399 | 68    | 38.2  | 2.7   |  57   | True  |\n",
       "| 4042 | 66    | 39.1  | 7.1   | 202   | True  |\n",
       "| 117 | 36    | 39.3  | 9.9   | 247   | True  |\n",
       "\n"
      ],
      "text/plain": [
       "     age Temp exam_WBC exam_Plt lab_result\n",
       "2647 70  36.9 5.0       62      False     \n",
       "1859 39  37.0 9.4      123      False     \n",
       "2484 22  37.3 4.8      153      False     \n",
       "4399 68  38.2 2.7       57      True      \n",
       "4042 66  39.1 7.1      202      True      \n",
       "117  36  39.3 9.9      247      True      "
      ]
     },
     "metadata": {},
     "output_type": "display_data"
    }
   ],
   "source": [
    "# Create a dataframe with just train_cols as features\n",
    "df <- read.csv(pathfile)\n",
    "df <- df[,train_cols]\n",
    "df <- as.data.frame(df)\n",
    "# df <- cbind(index = as.numeric(row.names(df)), df) # adds indices?\n",
    "\n",
    "# remove negative Temp values\n",
    "df$Temp[which(df$Temp == -1)] <- NA\n",
    "\n",
    "# remove rows with NA values\n",
    "df <- na.omit(df)\n",
    "\n",
    "# shuffle the df by row\n",
    "df <- df[sample(nrow(df)),]\n",
    "\n",
    "print(nrow(df))\n",
    "head(df) # df[seq(6),]"
   ]
  },
  {
   "cell_type": "code",
   "execution_count": 6,
   "metadata": {
    "scrolled": true
   },
   "outputs": [
    {
     "data": {
      "text/plain": [
       "      age              Temp          exam_WBC         exam_Plt     lab_result  \n",
       " Min.   :  0.00   Min.   :34.80   Min.   : 0.600   Min.   :  2.0   False:1952  \n",
       " 1st Qu.: 27.00   1st Qu.:37.50   1st Qu.: 4.000   1st Qu.:124.0   True :2942  \n",
       " Median : 47.00   Median :38.30   Median : 6.000   Median :169.0               \n",
       " Mean   : 46.82   Mean   :38.18   Mean   : 6.814   Mean   :171.1               \n",
       " 3rd Qu.: 66.00   3rd Qu.:38.90   3rd Qu.: 8.500   3rd Qu.:216.0               \n",
       " Max.   :104.00   Max.   :41.30   Max.   :41.600   Max.   :976.0               "
      ]
     },
     "metadata": {},
     "output_type": "display_data"
    }
   ],
   "source": [
    "summary(df)"
   ]
  },
  {
   "cell_type": "markdown",
   "metadata": {},
   "source": [
    "## Training"
   ]
  },
  {
   "cell_type": "code",
   "execution_count": 7,
   "metadata": {
    "scrolled": true
   },
   "outputs": [
    {
     "name": "stderr",
     "output_type": "stream",
     "text": [
      "Setting levels: control = 1, case = 2\n",
      "Setting direction: controls < cases\n",
      "Setting levels: control = 1, case = 2\n",
      "Setting direction: controls < cases\n",
      "Setting levels: control = 1, case = 2\n",
      "Setting direction: controls < cases\n",
      "Setting levels: control = 1, case = 2\n",
      "Setting direction: controls < cases\n",
      "Setting levels: control = 1, case = 2\n",
      "Setting direction: controls < cases\n",
      "Setting levels: control = 1, case = 2\n",
      "Setting direction: controls < cases\n",
      "Setting levels: control = 1, case = 2\n",
      "Setting direction: controls < cases\n",
      "Setting levels: control = 1, case = 2\n",
      "Setting direction: controls < cases\n",
      "Setting levels: control = 1, case = 2\n",
      "Setting direction: controls < cases\n",
      "Setting levels: control = 1, case = 2\n",
      "Setting direction: controls < cases\n",
      "Setting levels: control = 1, case = 2\n",
      "Setting direction: controls < cases\n",
      "Setting levels: control = 1, case = 2\n",
      "Setting direction: controls < cases\n",
      "Setting levels: control = 1, case = 2\n",
      "Setting direction: controls < cases\n",
      "Setting levels: control = 1, case = 2\n",
      "Setting direction: controls < cases\n",
      "Setting levels: control = 1, case = 2\n",
      "Setting direction: controls < cases\n",
      "Setting levels: control = 1, case = 2\n",
      "Setting direction: controls < cases\n",
      "Setting levels: control = 1, case = 2\n",
      "Setting direction: controls < cases\n",
      "Setting levels: control = 1, case = 2\n",
      "Setting direction: controls < cases\n",
      "Setting levels: control = 1, case = 2\n",
      "Setting direction: controls < cases\n",
      "Setting levels: control = 1, case = 2\n",
      "Setting direction: controls < cases\n",
      "Setting levels: control = 1, case = 2\n",
      "Setting direction: controls < cases\n",
      "Setting levels: control = 1, case = 2\n",
      "Setting direction: controls < cases\n",
      "Setting levels: control = 1, case = 2\n",
      "Setting direction: controls < cases\n",
      "Setting levels: control = 1, case = 2\n",
      "Setting direction: controls < cases\n",
      "Setting levels: control = 1, case = 2\n",
      "Setting direction: controls < cases\n",
      "Setting levels: control = 1, case = 2\n",
      "Setting direction: controls < cases\n",
      "Setting levels: control = 1, case = 2\n",
      "Setting direction: controls < cases\n",
      "Setting levels: control = 1, case = 2\n",
      "Setting direction: controls < cases\n",
      "Setting levels: control = 1, case = 2\n",
      "Setting direction: controls < cases\n",
      "Setting levels: control = 1, case = 2\n",
      "Setting direction: controls < cases\n",
      "Setting levels: control = 1, case = 2\n",
      "Setting direction: controls < cases\n",
      "Setting levels: control = 1, case = 2\n",
      "Setting direction: controls < cases\n",
      "Setting levels: control = 1, case = 2\n",
      "Setting direction: controls < cases\n",
      "Setting levels: control = 1, case = 2\n",
      "Setting direction: controls < cases\n",
      "Setting levels: control = 1, case = 2\n",
      "Setting direction: controls < cases\n",
      "Setting levels: control = 1, case = 2\n",
      "Setting direction: controls < cases\n",
      "Setting levels: control = 1, case = 2\n",
      "Setting direction: controls < cases\n",
      "Setting levels: control = 1, case = 2\n",
      "Setting direction: controls < cases\n",
      "Setting levels: control = 1, case = 2\n",
      "Setting direction: controls < cases\n",
      "Setting levels: control = 1, case = 2\n",
      "Setting direction: controls < cases\n",
      "Setting levels: control = 1, case = 2\n",
      "Setting direction: controls < cases\n",
      "Setting levels: control = 1, case = 2\n",
      "Setting direction: controls < cases\n",
      "Setting levels: control = 1, case = 2\n",
      "Setting direction: controls < cases\n",
      "Setting levels: control = 1, case = 2\n",
      "Setting direction: controls < cases\n",
      "Setting levels: control = 1, case = 2\n",
      "Setting direction: controls < cases\n",
      "Setting levels: control = 1, case = 2\n",
      "Setting direction: controls < cases\n",
      "Setting levels: control = 1, case = 2\n",
      "Setting direction: controls < cases\n",
      "Setting levels: control = 1, case = 2\n",
      "Setting direction: controls < cases\n",
      "Setting levels: control = 1, case = 2\n",
      "Setting direction: controls < cases\n",
      "Setting levels: control = 1, case = 2\n",
      "Setting direction: controls < cases\n",
      "Setting levels: control = 1, case = 2\n",
      "Setting direction: controls < cases\n",
      "Setting levels: control = 1, case = 2\n",
      "Setting direction: controls < cases\n",
      "Setting levels: control = 1, case = 2\n",
      "Setting direction: controls < cases\n",
      "Setting levels: control = 1, case = 2\n",
      "Setting direction: controls < cases\n",
      "Setting levels: control = 1, case = 2\n",
      "Setting direction: controls < cases\n",
      "Setting levels: control = 1, case = 2\n",
      "Setting direction: controls < cases\n",
      "Setting levels: control = 1, case = 2\n",
      "Setting direction: controls < cases\n",
      "Setting levels: control = 1, case = 2\n",
      "Setting direction: controls < cases\n",
      "Setting levels: control = 1, case = 2\n",
      "Setting direction: controls < cases\n",
      "Setting levels: control = 1, case = 2\n",
      "Setting direction: controls < cases\n",
      "Setting levels: control = 1, case = 2\n",
      "Setting direction: controls < cases\n",
      "Setting levels: control = 1, case = 2\n",
      "Setting direction: controls < cases\n",
      "Setting levels: control = 1, case = 2\n",
      "Setting direction: controls < cases\n",
      "Setting levels: control = 1, case = 2\n",
      "Setting direction: controls < cases\n",
      "Setting levels: control = 1, case = 2\n",
      "Setting direction: controls < cases\n",
      "Setting levels: control = 1, case = 2\n",
      "Setting direction: controls < cases\n",
      "Setting levels: control = 1, case = 2\n",
      "Setting direction: controls < cases\n",
      "Setting levels: control = 1, case = 2\n",
      "Setting direction: controls < cases\n",
      "Setting levels: control = 1, case = 2\n",
      "Setting direction: controls < cases\n",
      "Setting levels: control = 1, case = 2\n",
      "Setting direction: controls < cases\n",
      "Setting levels: control = 1, case = 2\n",
      "Setting direction: controls < cases\n",
      "Setting levels: control = 1, case = 2\n",
      "Setting direction: controls < cases\n",
      "Setting levels: control = 1, case = 2\n",
      "Setting direction: controls < cases\n",
      "Setting levels: control = 1, case = 2\n",
      "Setting direction: controls < cases\n",
      "Setting levels: control = 1, case = 2\n",
      "Setting direction: controls < cases\n",
      "Setting levels: control = 1, case = 2\n",
      "Setting direction: controls < cases\n",
      "Setting levels: control = 1, case = 2\n",
      "Setting direction: controls < cases\n",
      "Setting levels: control = 1, case = 2\n",
      "Setting direction: controls < cases\n",
      "Setting levels: control = 1, case = 2\n",
      "Setting direction: controls < cases\n",
      "Setting levels: control = 1, case = 2\n",
      "Setting direction: controls < cases\n",
      "Setting levels: control = 1, case = 2\n",
      "Setting direction: controls < cases\n",
      "Setting levels: control = 1, case = 2\n",
      "Setting direction: controls < cases\n",
      "Setting levels: control = 1, case = 2\n",
      "Setting direction: controls < cases\n",
      "Setting levels: control = 1, case = 2\n",
      "Setting direction: controls < cases\n",
      "Setting levels: control = 1, case = 2\n",
      "Setting direction: controls < cases\n",
      "Setting levels: control = 1, case = 2\n",
      "Setting direction: controls < cases\n",
      "Setting levels: control = 1, case = 2\n",
      "Setting direction: controls < cases\n",
      "Setting levels: control = 1, case = 2\n",
      "Setting direction: controls < cases\n",
      "Setting levels: control = 1, case = 2\n",
      "Setting direction: controls < cases\n",
      "Setting levels: control = 1, case = 2\n",
      "Setting direction: controls < cases\n",
      "Setting levels: control = 1, case = 2\n",
      "Setting direction: controls < cases\n",
      "Setting levels: control = 1, case = 2\n",
      "Setting direction: controls < cases\n",
      "Setting levels: control = 1, case = 2\n",
      "Setting direction: controls < cases\n",
      "Setting levels: control = 1, case = 2\n",
      "Setting direction: controls < cases\n",
      "Setting levels: control = 1, case = 2\n",
      "Setting direction: controls < cases\n",
      "Setting levels: control = 1, case = 2\n",
      "Setting direction: controls < cases\n",
      "Setting levels: control = 1, case = 2\n",
      "Setting direction: controls < cases\n",
      "Setting levels: control = 1, case = 2\n",
      "Setting direction: controls < cases\n",
      "Setting levels: control = 1, case = 2\n",
      "Setting direction: controls < cases\n",
      "Setting levels: control = 1, case = 2\n",
      "Setting direction: controls < cases\n",
      "Setting levels: control = 1, case = 2\n",
      "Setting direction: controls < cases\n",
      "Setting levels: control = 1, case = 2\n",
      "Setting direction: controls < cases\n",
      "Setting levels: control = 1, case = 2\n",
      "Setting direction: controls < cases\n",
      "Setting levels: control = 1, case = 2\n",
      "Setting direction: controls < cases\n",
      "Setting levels: control = 1, case = 2\n",
      "Setting direction: controls < cases\n",
      "Setting levels: control = 1, case = 2\n",
      "Setting direction: controls < cases\n",
      "Setting levels: control = 1, case = 2\n",
      "Setting direction: controls < cases\n",
      "Setting levels: control = 1, case = 2\n",
      "Setting direction: controls < cases\n",
      "Setting levels: control = 1, case = 2\n",
      "Setting direction: controls < cases\n",
      "Setting levels: control = 1, case = 2\n",
      "Setting direction: controls < cases\n",
      "Setting levels: control = 1, case = 2\n",
      "Setting direction: controls < cases\n"
     ]
    },
    {
     "name": "stderr",
     "output_type": "stream",
     "text": [
      "Setting levels: control = 1, case = 2\n",
      "Setting direction: controls < cases\n",
      "Setting levels: control = 1, case = 2\n",
      "Setting direction: controls < cases\n",
      "Setting levels: control = 1, case = 2\n",
      "Setting direction: controls < cases\n",
      "Setting levels: control = 1, case = 2\n",
      "Setting direction: controls < cases\n",
      "Setting levels: control = 1, case = 2\n",
      "Setting direction: controls < cases\n",
      "Setting levels: control = 1, case = 2\n",
      "Setting direction: controls < cases\n",
      "Setting levels: control = 1, case = 2\n",
      "Setting direction: controls < cases\n",
      "Setting levels: control = 1, case = 2\n",
      "Setting direction: controls < cases\n",
      "Setting levels: control = 1, case = 2\n",
      "Setting direction: controls < cases\n",
      "Setting levels: control = 1, case = 2\n",
      "Setting direction: controls < cases\n",
      "Setting levels: control = 1, case = 2\n",
      "Setting direction: controls < cases\n",
      "Setting levels: control = 1, case = 2\n",
      "Setting direction: controls < cases\n",
      "Setting levels: control = 1, case = 2\n",
      "Setting direction: controls < cases\n",
      "Setting levels: control = 1, case = 2\n",
      "Setting direction: controls < cases\n",
      "Setting levels: control = 1, case = 2\n",
      "Setting direction: controls < cases\n",
      "Setting levels: control = 1, case = 2\n",
      "Setting direction: controls < cases\n",
      "Setting levels: control = 1, case = 2\n",
      "Setting direction: controls < cases\n",
      "Setting levels: control = 1, case = 2\n",
      "Setting direction: controls < cases\n",
      "Setting levels: control = 1, case = 2\n",
      "Setting direction: controls < cases\n",
      "Setting levels: control = 1, case = 2\n",
      "Setting direction: controls < cases\n",
      "Setting levels: control = 1, case = 2\n",
      "Setting direction: controls < cases\n",
      "Setting levels: control = 1, case = 2\n",
      "Setting direction: controls < cases\n",
      "Setting levels: control = 1, case = 2\n",
      "Setting direction: controls < cases\n",
      "Setting levels: control = 1, case = 2\n",
      "Setting direction: controls < cases\n",
      "Setting levels: control = 1, case = 2\n",
      "Setting direction: controls < cases\n",
      "Setting levels: control = 1, case = 2\n",
      "Setting direction: controls < cases\n",
      "Setting levels: control = 1, case = 2\n",
      "Setting direction: controls < cases\n",
      "Setting levels: control = 1, case = 2\n",
      "Setting direction: controls < cases\n",
      "Setting levels: control = 1, case = 2\n",
      "Setting direction: controls < cases\n",
      "Setting levels: control = 1, case = 2\n",
      "Setting direction: controls < cases\n",
      "Setting levels: control = 1, case = 2\n",
      "Setting direction: controls < cases\n",
      "Setting levels: control = 1, case = 2\n",
      "Setting direction: controls < cases\n",
      "Setting levels: control = 1, case = 2\n",
      "Setting direction: controls < cases\n",
      "Setting levels: control = 1, case = 2\n",
      "Setting direction: controls < cases\n",
      "Setting levels: control = 1, case = 2\n",
      "Setting direction: controls < cases\n",
      "Setting levels: control = 1, case = 2\n",
      "Setting direction: controls < cases\n",
      "Setting levels: control = 1, case = 2\n",
      "Setting direction: controls < cases\n",
      "Setting levels: control = 1, case = 2\n",
      "Setting direction: controls < cases\n",
      "Setting levels: control = 1, case = 2\n",
      "Setting direction: controls < cases\n",
      "Setting levels: control = 1, case = 2\n",
      "Setting direction: controls < cases\n",
      "Setting levels: control = 1, case = 2\n",
      "Setting direction: controls < cases\n",
      "Setting levels: control = 1, case = 2\n",
      "Setting direction: controls < cases\n",
      "Setting levels: control = 1, case = 2\n",
      "Setting direction: controls < cases\n",
      "Setting levels: control = 1, case = 2\n",
      "Setting direction: controls < cases\n",
      "Setting levels: control = 1, case = 2\n",
      "Setting direction: controls < cases\n",
      "Setting levels: control = 1, case = 2\n",
      "Setting direction: controls < cases\n",
      "Setting levels: control = 1, case = 2\n",
      "Setting direction: controls < cases\n",
      "Setting levels: control = 1, case = 2\n",
      "Setting direction: controls < cases\n",
      "Setting levels: control = 1, case = 2\n",
      "Setting direction: controls < cases\n",
      "Setting levels: control = 1, case = 2\n",
      "Setting direction: controls < cases\n",
      "Setting levels: control = 1, case = 2\n",
      "Setting direction: controls < cases\n",
      "Setting levels: control = 1, case = 2\n",
      "Setting direction: controls < cases\n",
      "Setting levels: control = 1, case = 2\n",
      "Setting direction: controls < cases\n",
      "Setting levels: control = 1, case = 2\n",
      "Setting direction: controls < cases\n",
      "Setting levels: control = 1, case = 2\n",
      "Setting direction: controls < cases\n",
      "Setting levels: control = 1, case = 2\n",
      "Setting direction: controls < cases\n",
      "Setting levels: control = 1, case = 2\n",
      "Setting direction: controls < cases\n",
      "Setting levels: control = 1, case = 2\n",
      "Setting direction: controls < cases\n",
      "Setting levels: control = 1, case = 2\n",
      "Setting direction: controls < cases\n",
      "Setting levels: control = 1, case = 2\n",
      "Setting direction: controls < cases\n",
      "Setting levels: control = 1, case = 2\n",
      "Setting direction: controls < cases\n",
      "Setting levels: control = 1, case = 2\n",
      "Setting direction: controls < cases\n",
      "Setting levels: control = 1, case = 2\n",
      "Setting direction: controls < cases\n",
      "Setting levels: control = 1, case = 2\n",
      "Setting direction: controls < cases\n",
      "Setting levels: control = 1, case = 2\n",
      "Setting direction: controls < cases\n",
      "Setting levels: control = 1, case = 2\n",
      "Setting direction: controls < cases\n",
      "Setting levels: control = 1, case = 2\n",
      "Setting direction: controls < cases\n",
      "Setting levels: control = 1, case = 2\n",
      "Setting direction: controls < cases\n",
      "Setting levels: control = 1, case = 2\n",
      "Setting direction: controls < cases\n",
      "Setting levels: control = 1, case = 2\n",
      "Setting direction: controls < cases\n",
      "Setting levels: control = 1, case = 2\n",
      "Setting direction: controls < cases\n",
      "Setting levels: control = 1, case = 2\n",
      "Setting direction: controls < cases\n",
      "Setting levels: control = 1, case = 2\n",
      "Setting direction: controls < cases\n",
      "Setting levels: control = 1, case = 2\n",
      "Setting direction: controls < cases\n",
      "Setting levels: control = 1, case = 2\n",
      "Setting direction: controls < cases\n",
      "Setting levels: control = 1, case = 2\n",
      "Setting direction: controls < cases\n",
      "Setting levels: control = 1, case = 2\n",
      "Setting direction: controls < cases\n",
      "Setting levels: control = 1, case = 2\n",
      "Setting direction: controls < cases\n",
      "Setting levels: control = 1, case = 2\n",
      "Setting direction: controls < cases\n",
      "Setting levels: control = 1, case = 2\n",
      "Setting direction: controls < cases\n",
      "Setting levels: control = 1, case = 2\n",
      "Setting direction: controls < cases\n",
      "Setting levels: control = 1, case = 2\n",
      "Setting direction: controls < cases\n",
      "Setting levels: control = 1, case = 2\n",
      "Setting direction: controls < cases\n",
      "Setting levels: control = 1, case = 2\n",
      "Setting direction: controls < cases\n",
      "Setting levels: control = 1, case = 2\n",
      "Setting direction: controls < cases\n",
      "Setting levels: control = 1, case = 2\n",
      "Setting direction: controls < cases\n",
      "Setting levels: control = 1, case = 2\n",
      "Setting direction: controls < cases\n",
      "Setting levels: control = 1, case = 2\n",
      "Setting direction: controls < cases\n",
      "Setting levels: control = 1, case = 2\n",
      "Setting direction: controls < cases\n"
     ]
    }
   ],
   "source": [
    "parms = 33\n",
    "prior <- seq(0.1, 0.9, 0.008)\n",
    "ncols = 14\n",
    "result_table <- matrix(ncol=ncols) #matrix(NA, ncol = 282 ) # nrow(valid_df))\n",
    "result_tables <- list()\n",
    "overall_table <- matrix(ncol=ncols)\n",
    "\n",
    "# ppv<-rep(NA,iters)\n",
    "# npv<-rep(NA,iters)\n",
    "# tpr<-rep(NA,iters)\n",
    "# tnr<-rep(NA,iters)\n",
    "# acc<-rep(NA,iters)\n",
    "# LR_p<-rep(NA,iters)\n",
    "# LR_n<-rep(NA,iters)\n",
    "# pred<-rep(NA,iters)\n",
    "\n",
    "\n",
    "# for (i in prior)\n",
    "\n",
    "for (iter in 1:iters) {\n",
    "    result_table <- matrix(ncol=ncols) #matrix(NA, ncol = 282 ) # nrow(valid_df))\n",
    "    flds <- createFolds(df$lab_result, k = splits, list = TRUE, returnTrain = FALSE) # separate df into subsets\n",
    "    for (i in 1:splits) {\n",
    "        idx <- flds[[i]]\n",
    "        train_df <- df[-idx,]\n",
    "        valid_df <- df[idx,]\n",
    "        dtreeM <- rpart(formula = lab_result ~ ., data = train_df, method = \"class\", \n",
    "            parms = list(prior = c(prior[parms], 1 - prior[parms])))\n",
    "        cp <- dtreeM$cptable[which.min(dtreeM$cptable[, 3]), 1]\n",
    "        dtreeM_pruned <- prune(dtreeM, cp = cp)\n",
    "        preds <- predict(dtreeM_pruned, newdata = valid_df, type = \"class\")\n",
    "\n",
    "    #     print(mean(preds == valid_df[,5])) # accuracy\n",
    "\n",
    "        accuracy = mean(preds == valid_df[,5])\n",
    "\n",
    "        valid_result <- cbind(df[rownames(valid_df),], preds)\n",
    "\n",
    "        # Confusion Matrix stuff\n",
    "        FN <- nrow(subset(valid_result, (preds != lab_result) & (preds == 'False')))\n",
    "        TN <- nrow(subset(valid_result, (preds == lab_result) & (preds == 'False')))\n",
    "        FP <- nrow(subset(valid_result, (preds != lab_result) & (preds == 'True')))\n",
    "        TP <- nrow(subset(valid_result, (preds == lab_result) & (preds == 'True')))\n",
    "        size <- FN + TN + FP + TP\n",
    "\n",
    "        PPV = if (TP+FP) TP / (TP + FP) else 0 # positive predict value\n",
    "        NPV = if (TN+FN) TN / (TN + FN) else 0 # negative predict value\n",
    "        F1 = 2*TP / (2*TP + FP + FN) #\n",
    "        accuracy = (TP + TN) / (TP + TN + FP + FN)\n",
    "        sensitivity = if (TP+FN) TP /(TP + FN) else 0 \n",
    "        specificity = if (TN+FP) TN /(TN + FP) else 0 \n",
    "        odds_ratio = if (FP*FN) (TP * TN) /(FP * FN) else 0\n",
    "\n",
    "        model_num = i\n",
    "\n",
    "        roc_obj <- roc(as.numeric(valid_df$lab_result), as.numeric(preds))\n",
    "        roc_auc <- auc(roc_obj)\n",
    "\n",
    "        model_metrics <- cbind(model_num, roc_auc, PPV, NPV, F1, accuracy, sensitivity, specificity, odds_ratio, FN, TN, FP, TP, size)\n",
    "\n",
    "        result_table <- rbind(result_table, model_metrics)\n",
    "\n",
    "    #     toprint = paste(format(accuracy, digits=4), FN, TN, FP, TP, sep=\" | \")\n",
    "    #     print(toprint)\n",
    "\n",
    "    #     result_table <- rbind(result_table, cbind(df[rownames(valid_df), ], \n",
    "    #         result, validation = nrow(valid_df))) #rep(j, nrow(valid_df))))\n",
    "        }\n",
    "    result_table <- result_table[-1,]\n",
    "\n",
    "\n",
    "    # Combine Metrics -> Overall Metrics\n",
    "    overall <- data.frame(NA, stringsAsFactors=FALSE)\n",
    "    for(i in 2:14){\n",
    "        overall <- cbind(overall, sum(result_table[,i]))\n",
    "    }\n",
    "    colnames(overall) <- (colnames(result_table))\n",
    "\n",
    "    FN = overall[1,10]\n",
    "    TN = overall[1,11]\n",
    "    FP = overall[1,12]\n",
    "    TP = overall[1,13]\n",
    "    size <- sum(FN,TN,FP,TP)\n",
    "\n",
    "    PPV = if (TP+FP) TP / (TP + FP) else 0 # positive predict value\n",
    "    NPV = if (TN+FN) TN / (TN + FN) else 0 # negative predict value\n",
    "    F1 = 2*TP / (2*TP + FP + FN) #\n",
    "    accuracy = (TP + TN) / (TP + TN + FP + FN)\n",
    "    sensitivity = if (TP+FN) TP /(TP + FN) else 0 \n",
    "    specificity = if (TN+FP) TN /(TN + FP) else 0 \n",
    "    odds_ratio = if (FP*FN) (TP * TN) /(FP * FN) else 0\n",
    "    model_num = NA\n",
    "\n",
    "\n",
    "    # roc_obj <- roc(as.numeric(valid_df$lab_result), as.numeric(preds))\n",
    "    # roc_auc <- auc(roc_obj)\n",
    "    roc_auc <- mean(result_table[1:splits,2])\n",
    "    # roc_auc <- simple_auc(sensitivity,1-specificity)\n",
    "    # roc_auc <- 0\n",
    "\n",
    "    overall <- cbind(model_num, roc_auc, PPV, NPV, F1, accuracy, sensitivity, specificity, odds_ratio, FN, TN, FP, TP, size)\n",
    "\n",
    "    result_table <- rbind(result_table, overall)\n",
    "\n",
    "    iteration <- iter\n",
    "    overall <- cbind(iteration, roc_auc, PPV, NPV, F1, accuracy, sensitivity, specificity, odds_ratio, FN, TN, FP, TP, size)\n",
    "    overall_table <-rbind(overall_table, overall)\n",
    "    \n",
    "    result_tables[[iter]] <- result_table\n",
    "    }\n",
    "overall_table <- overall_table[-1,]\n"
   ]
  },
  {
   "cell_type": "code",
   "execution_count": 8,
   "metadata": {},
   "outputs": [],
   "source": [
    "# average across iterations\n",
    "avgs <- data.frame(NA, stringsAsFactors=FALSE)\n",
    "sds <- data.frame(NA, stringsAsFactors=FALSE)\n",
    "for(i in 2:14){\n",
    "    avgs <- cbind(avgs, mean(overall_table[,i]))\n",
    "    sds <- cbind(sds, sd(overall_table[,i]))\n",
    "}\n",
    "\n",
    "colnames(avgs) <- (colnames(overall_table))\n",
    "colnames(sds) <- (colnames(overall_table))\n",
    "avgs[,1] <- 'Avg'\n",
    "sds[,1] <- 'SD'\n",
    "combined <- rbind(avgs,sds)\n",
    "# overall_table <-rbind(overall_table, avgs)\n",
    "# overall_table <-rbind(overall_table, sds)"
   ]
  },
  {
   "cell_type": "code",
   "execution_count": 9,
   "metadata": {},
   "outputs": [
    {
     "data": {
      "text/html": [
       "<table>\n",
       "<thead><tr><th scope=col>iteration</th><th scope=col>roc_auc</th><th scope=col>PPV</th><th scope=col>NPV</th><th scope=col>F1</th><th scope=col>accuracy</th><th scope=col>sensitivity</th><th scope=col>specificity</th><th scope=col>odds_ratio</th><th scope=col>FN</th><th scope=col>TN</th><th scope=col>FP</th><th scope=col>TP</th><th scope=col>size</th></tr></thead>\n",
       "<tbody>\n",
       "\t<tr><td>Avg        </td><td>0.767603526</td><td>0.785922609</td><td>0.818958713</td><td>0.842554383</td><td>0.796005313</td><td>0.907987763</td><td>0.627228484</td><td>16.6255866 </td><td>270.700000 </td><td>1224.350000</td><td>727.650000 </td><td>2671.300000</td><td>4894       </td></tr>\n",
       "\t<tr><td>SD         </td><td>0.002559414</td><td>0.001990486</td><td>0.004896385</td><td>0.001908505</td><td>0.002423384</td><td>0.003006209</td><td>0.004328738</td><td> 0.6587088 </td><td>  8.844267 </td><td>   8.449696</td><td>  8.449696 </td><td>   8.844267</td><td>   0       </td></tr>\n",
       "</tbody>\n",
       "</table>\n"
      ],
      "text/latex": [
       "\\begin{tabular}{r|llllllllllllll}\n",
       " iteration & roc\\_auc & PPV & NPV & F1 & accuracy & sensitivity & specificity & odds\\_ratio & FN & TN & FP & TP & size\\\\\n",
       "\\hline\n",
       "\t Avg         & 0.767603526 & 0.785922609 & 0.818958713 & 0.842554383 & 0.796005313 & 0.907987763 & 0.627228484 & 16.6255866  & 270.700000  & 1224.350000 & 727.650000  & 2671.300000 & 4894       \\\\\n",
       "\t SD          & 0.002559414 & 0.001990486 & 0.004896385 & 0.001908505 & 0.002423384 & 0.003006209 & 0.004328738 &  0.6587088  &   8.844267  &    8.449696 &   8.449696  &    8.844267 &    0       \\\\\n",
       "\\end{tabular}\n"
      ],
      "text/markdown": [
       "\n",
       "| iteration | roc_auc | PPV | NPV | F1 | accuracy | sensitivity | specificity | odds_ratio | FN | TN | FP | TP | size |\n",
       "|---|---|---|---|---|---|---|---|---|---|---|---|---|---|\n",
       "| Avg         | 0.767603526 | 0.785922609 | 0.818958713 | 0.842554383 | 0.796005313 | 0.907987763 | 0.627228484 | 16.6255866  | 270.700000  | 1224.350000 | 727.650000  | 2671.300000 | 4894        |\n",
       "| SD          | 0.002559414 | 0.001990486 | 0.004896385 | 0.001908505 | 0.002423384 | 0.003006209 | 0.004328738 |  0.6587088  |   8.844267  |    8.449696 |   8.449696  |    8.844267 |    0        |\n",
       "\n"
      ],
      "text/plain": [
       "  iteration roc_auc     PPV         NPV         F1          accuracy   \n",
       "1 Avg       0.767603526 0.785922609 0.818958713 0.842554383 0.796005313\n",
       "2 SD        0.002559414 0.001990486 0.004896385 0.001908505 0.002423384\n",
       "  sensitivity specificity odds_ratio FN         TN          FP        \n",
       "1 0.907987763 0.627228484 16.6255866 270.700000 1224.350000 727.650000\n",
       "2 0.003006209 0.004328738  0.6587088   8.844267    8.449696   8.449696\n",
       "  TP          size\n",
       "1 2671.300000 4894\n",
       "2    8.844267    0"
      ]
     },
     "metadata": {},
     "output_type": "display_data"
    }
   ],
   "source": [
    "combined"
   ]
  },
  {
   "cell_type": "code",
   "execution_count": 10,
   "metadata": {},
   "outputs": [
    {
     "data": {
      "text/html": [
       "<table>\n",
       "<thead><tr><th scope=col>iteration</th><th scope=col>roc_auc</th><th scope=col>PPV</th><th scope=col>NPV</th><th scope=col>F1</th><th scope=col>accuracy</th><th scope=col>sensitivity</th><th scope=col>specificity</th><th scope=col>odds_ratio</th><th scope=col>FN</th><th scope=col>TN</th><th scope=col>FP</th><th scope=col>TP</th><th scope=col>size</th></tr></thead>\n",
       "<tbody>\n",
       "\t<tr><td> 1       </td><td>0.7729092</td><td>0.7900324</td><td>0.8250166</td><td>0.8460445</td><td>0.8007765</td><td>0.9106050</td><td>0.6352459</td><td>17.74021 </td><td>263      </td><td>1240     </td><td>712      </td><td>2679     </td><td>4894     </td></tr>\n",
       "\t<tr><td> 2       </td><td>0.7695911</td><td>0.7861948</td><td>0.8277966</td><td>0.8451501</td><td>0.7987331</td><td>0.9136642</td><td>0.6255123</td><td>17.67640 </td><td>254      </td><td>1221     </td><td>731      </td><td>2688     </td><td>4894     </td></tr>\n",
       "\t<tr><td> 3       </td><td>0.7672060</td><td>0.7858616</td><td>0.8172115</td><td>0.8420388</td><td>0.7954638</td><td>0.9068661</td><td>0.6275615</td><td>16.40729 </td><td>274      </td><td>1225     </td><td>727      </td><td>2668     </td><td>4894     </td></tr>\n",
       "\t<tr><td> 4       </td><td>0.7663355</td><td>0.7847283</td><td>0.8186702</td><td>0.8419726</td><td>0.7950552</td><td>0.9082257</td><td>0.6244877</td><td>16.45782 </td><td>270      </td><td>1219     </td><td>733      </td><td>2672     </td><td>4894     </td></tr>\n",
       "\t<tr><td> 5       </td><td>0.7683877</td><td>0.7860288</td><td>0.8224613</td><td>0.8435974</td><td>0.7970985</td><td>0.9102651</td><td>0.6265369</td><td>17.01788 </td><td>264      </td><td>1223     </td><td>729      </td><td>2678     </td><td>4894     </td></tr>\n",
       "\t<tr><td> 6       </td><td>0.7685545</td><td>0.7863650</td><td>0.8215962</td><td>0.8434988</td><td>0.7970985</td><td>0.9095853</td><td>0.6275615</td><td>16.95142 </td><td>266      </td><td>1225     </td><td>727      </td><td>2676     </td><td>4894     </td></tr>\n",
       "\t<tr><td> 7       </td><td>0.7688284</td><td>0.7865961</td><td>0.8217158</td><td>0.8436318</td><td>0.7973028</td><td>0.9095853</td><td>0.6280738</td><td>16.98863 </td><td>266      </td><td>1226     </td><td>726      </td><td>2676     </td><td>4894     </td></tr>\n",
       "\t<tr><td> 8       </td><td>0.7655733</td><td>0.7851240</td><td>0.8127490</td><td>0.8404423</td><td>0.7936248</td><td>0.9041468</td><td>0.6270492</td><td>15.85925 </td><td>282      </td><td>1224     </td><td>728      </td><td>2660     </td><td>4894     </td></tr>\n",
       "\t<tr><td> 9       </td><td>0.7662794</td><td>0.7851045</td><td>0.8162993</td><td>0.8414576</td><td>0.7946465</td><td>0.9065262</td><td>0.6260246</td><td>16.23449 </td><td>275      </td><td>1222     </td><td>730      </td><td>2667     </td><td>4894     </td></tr>\n",
       "\t<tr><td>10       </td><td>0.7648182</td><td>0.7844294</td><td>0.8123752</td><td>0.8400442</td><td>0.7930119</td><td>0.9041468</td><td>0.6255123</td><td>15.75545 </td><td>282      </td><td>1221     </td><td>731      </td><td>2660     </td><td>4894     </td></tr>\n",
       "\t<tr><td>11       </td><td>0.7689256</td><td>0.7870398</td><td>0.8198799</td><td>0.8433012</td><td>0.7970985</td><td>0.9082257</td><td>0.6296107</td><td>16.82233 </td><td>270      </td><td>1229     </td><td>723      </td><td>2672     </td><td>4894     </td></tr>\n",
       "\t<tr><td>12       </td><td>0.7674003</td><td>0.7867495</td><td>0.8136153</td><td>0.8413728</td><td>0.7950552</td><td>0.9041468</td><td>0.6306352</td><td>16.10480 </td><td>282      </td><td>1231     </td><td>721      </td><td>2660     </td><td>4894     </td></tr>\n",
       "\t<tr><td>13       </td><td>0.7681466</td><td>0.7871711</td><td>0.8153541</td><td>0.8420553</td><td>0.7958725</td><td>0.9051666</td><td>0.6311475</td><td>16.33222 </td><td>279      </td><td>1232     </td><td>720      </td><td>2663     </td><td>4894     </td></tr>\n",
       "\t<tr><td>14       </td><td>0.7671286</td><td>0.7865169</td><td>0.8134921</td><td>0.8412397</td><td>0.7948508</td><td>0.9041468</td><td>0.6301230</td><td>16.06943 </td><td>282      </td><td>1230     </td><td>722      </td><td>2660     </td><td>4894     </td></tr>\n",
       "\t<tr><td>15       </td><td>0.7655073</td><td>0.7849558</td><td>0.8131649</td><td>0.8404927</td><td>0.7936248</td><td>0.9044867</td><td>0.6265369</td><td>15.88684 </td><td>281      </td><td>1223     </td><td>729      </td><td>2661     </td><td>4894     </td></tr>\n",
       "\t<tr><td>16       </td><td>0.7600483</td><td>0.7791715</td><td>0.8151432</td><td>0.8386185</td><td>0.7899469</td><td>0.9078858</td><td>0.6121926</td><td>15.55882 </td><td>271      </td><td>1195     </td><td>757      </td><td>2671     </td><td>4894     </td></tr>\n",
       "\t<tr><td>17       </td><td>0.7685789</td><td>0.7869142</td><td>0.8187875</td><td>0.8429361</td><td>0.7966898</td><td>0.9075459</td><td>0.6296107</td><td>16.68614 </td><td>272      </td><td>1229     </td><td>723      </td><td>2670     </td><td>4894     </td></tr>\n",
       "\t<tr><td>18       </td><td>0.7698647</td><td>0.7866979</td><td>0.8264686</td><td>0.8450039</td><td>0.7987331</td><td>0.9126445</td><td>0.6270492</td><td>17.56553 </td><td>257      </td><td>1224     </td><td>728      </td><td>2685     </td><td>4894     </td></tr>\n",
       "\t<tr><td>19       </td><td>0.7693315</td><td>0.7867841</td><td>0.8233714</td><td>0.8441784</td><td>0.7979158</td><td>0.9106050</td><td>0.6280738</td><td>17.20168 </td><td>263      </td><td>1226     </td><td>726      </td><td>2679     </td><td>4894     </td></tr>\n",
       "\t<tr><td>20       </td><td>0.7686554</td><td>0.7859865</td><td>0.8240054</td><td>0.8440107</td><td>0.7975072</td><td>0.9112848</td><td>0.6260246</td><td>17.19510 </td><td>261      </td><td>1222     </td><td>730      </td><td>2681     </td><td>4894     </td></tr>\n",
       "</tbody>\n",
       "</table>\n"
      ],
      "text/latex": [
       "\\begin{tabular}{llllllllllllll}\n",
       " iteration & roc\\_auc & PPV & NPV & F1 & accuracy & sensitivity & specificity & odds\\_ratio & FN & TN & FP & TP & size\\\\\n",
       "\\hline\n",
       "\t  1        & 0.7729092 & 0.7900324 & 0.8250166 & 0.8460445 & 0.8007765 & 0.9106050 & 0.6352459 & 17.74021  & 263       & 1240      & 712       & 2679      & 4894     \\\\\n",
       "\t  2        & 0.7695911 & 0.7861948 & 0.8277966 & 0.8451501 & 0.7987331 & 0.9136642 & 0.6255123 & 17.67640  & 254       & 1221      & 731       & 2688      & 4894     \\\\\n",
       "\t  3        & 0.7672060 & 0.7858616 & 0.8172115 & 0.8420388 & 0.7954638 & 0.9068661 & 0.6275615 & 16.40729  & 274       & 1225      & 727       & 2668      & 4894     \\\\\n",
       "\t  4        & 0.7663355 & 0.7847283 & 0.8186702 & 0.8419726 & 0.7950552 & 0.9082257 & 0.6244877 & 16.45782  & 270       & 1219      & 733       & 2672      & 4894     \\\\\n",
       "\t  5        & 0.7683877 & 0.7860288 & 0.8224613 & 0.8435974 & 0.7970985 & 0.9102651 & 0.6265369 & 17.01788  & 264       & 1223      & 729       & 2678      & 4894     \\\\\n",
       "\t  6        & 0.7685545 & 0.7863650 & 0.8215962 & 0.8434988 & 0.7970985 & 0.9095853 & 0.6275615 & 16.95142  & 266       & 1225      & 727       & 2676      & 4894     \\\\\n",
       "\t  7        & 0.7688284 & 0.7865961 & 0.8217158 & 0.8436318 & 0.7973028 & 0.9095853 & 0.6280738 & 16.98863  & 266       & 1226      & 726       & 2676      & 4894     \\\\\n",
       "\t  8        & 0.7655733 & 0.7851240 & 0.8127490 & 0.8404423 & 0.7936248 & 0.9041468 & 0.6270492 & 15.85925  & 282       & 1224      & 728       & 2660      & 4894     \\\\\n",
       "\t  9        & 0.7662794 & 0.7851045 & 0.8162993 & 0.8414576 & 0.7946465 & 0.9065262 & 0.6260246 & 16.23449  & 275       & 1222      & 730       & 2667      & 4894     \\\\\n",
       "\t 10        & 0.7648182 & 0.7844294 & 0.8123752 & 0.8400442 & 0.7930119 & 0.9041468 & 0.6255123 & 15.75545  & 282       & 1221      & 731       & 2660      & 4894     \\\\\n",
       "\t 11        & 0.7689256 & 0.7870398 & 0.8198799 & 0.8433012 & 0.7970985 & 0.9082257 & 0.6296107 & 16.82233  & 270       & 1229      & 723       & 2672      & 4894     \\\\\n",
       "\t 12        & 0.7674003 & 0.7867495 & 0.8136153 & 0.8413728 & 0.7950552 & 0.9041468 & 0.6306352 & 16.10480  & 282       & 1231      & 721       & 2660      & 4894     \\\\\n",
       "\t 13        & 0.7681466 & 0.7871711 & 0.8153541 & 0.8420553 & 0.7958725 & 0.9051666 & 0.6311475 & 16.33222  & 279       & 1232      & 720       & 2663      & 4894     \\\\\n",
       "\t 14        & 0.7671286 & 0.7865169 & 0.8134921 & 0.8412397 & 0.7948508 & 0.9041468 & 0.6301230 & 16.06943  & 282       & 1230      & 722       & 2660      & 4894     \\\\\n",
       "\t 15        & 0.7655073 & 0.7849558 & 0.8131649 & 0.8404927 & 0.7936248 & 0.9044867 & 0.6265369 & 15.88684  & 281       & 1223      & 729       & 2661      & 4894     \\\\\n",
       "\t 16        & 0.7600483 & 0.7791715 & 0.8151432 & 0.8386185 & 0.7899469 & 0.9078858 & 0.6121926 & 15.55882  & 271       & 1195      & 757       & 2671      & 4894     \\\\\n",
       "\t 17        & 0.7685789 & 0.7869142 & 0.8187875 & 0.8429361 & 0.7966898 & 0.9075459 & 0.6296107 & 16.68614  & 272       & 1229      & 723       & 2670      & 4894     \\\\\n",
       "\t 18        & 0.7698647 & 0.7866979 & 0.8264686 & 0.8450039 & 0.7987331 & 0.9126445 & 0.6270492 & 17.56553  & 257       & 1224      & 728       & 2685      & 4894     \\\\\n",
       "\t 19        & 0.7693315 & 0.7867841 & 0.8233714 & 0.8441784 & 0.7979158 & 0.9106050 & 0.6280738 & 17.20168  & 263       & 1226      & 726       & 2679      & 4894     \\\\\n",
       "\t 20        & 0.7686554 & 0.7859865 & 0.8240054 & 0.8440107 & 0.7975072 & 0.9112848 & 0.6260246 & 17.19510  & 261       & 1222      & 730       & 2681      & 4894     \\\\\n",
       "\\end{tabular}\n"
      ],
      "text/markdown": [
       "\n",
       "| iteration | roc_auc | PPV | NPV | F1 | accuracy | sensitivity | specificity | odds_ratio | FN | TN | FP | TP | size |\n",
       "|---|---|---|---|---|---|---|---|---|---|---|---|---|---|\n",
       "|  1        | 0.7729092 | 0.7900324 | 0.8250166 | 0.8460445 | 0.8007765 | 0.9106050 | 0.6352459 | 17.74021  | 263       | 1240      | 712       | 2679      | 4894      |\n",
       "|  2        | 0.7695911 | 0.7861948 | 0.8277966 | 0.8451501 | 0.7987331 | 0.9136642 | 0.6255123 | 17.67640  | 254       | 1221      | 731       | 2688      | 4894      |\n",
       "|  3        | 0.7672060 | 0.7858616 | 0.8172115 | 0.8420388 | 0.7954638 | 0.9068661 | 0.6275615 | 16.40729  | 274       | 1225      | 727       | 2668      | 4894      |\n",
       "|  4        | 0.7663355 | 0.7847283 | 0.8186702 | 0.8419726 | 0.7950552 | 0.9082257 | 0.6244877 | 16.45782  | 270       | 1219      | 733       | 2672      | 4894      |\n",
       "|  5        | 0.7683877 | 0.7860288 | 0.8224613 | 0.8435974 | 0.7970985 | 0.9102651 | 0.6265369 | 17.01788  | 264       | 1223      | 729       | 2678      | 4894      |\n",
       "|  6        | 0.7685545 | 0.7863650 | 0.8215962 | 0.8434988 | 0.7970985 | 0.9095853 | 0.6275615 | 16.95142  | 266       | 1225      | 727       | 2676      | 4894      |\n",
       "|  7        | 0.7688284 | 0.7865961 | 0.8217158 | 0.8436318 | 0.7973028 | 0.9095853 | 0.6280738 | 16.98863  | 266       | 1226      | 726       | 2676      | 4894      |\n",
       "|  8        | 0.7655733 | 0.7851240 | 0.8127490 | 0.8404423 | 0.7936248 | 0.9041468 | 0.6270492 | 15.85925  | 282       | 1224      | 728       | 2660      | 4894      |\n",
       "|  9        | 0.7662794 | 0.7851045 | 0.8162993 | 0.8414576 | 0.7946465 | 0.9065262 | 0.6260246 | 16.23449  | 275       | 1222      | 730       | 2667      | 4894      |\n",
       "| 10        | 0.7648182 | 0.7844294 | 0.8123752 | 0.8400442 | 0.7930119 | 0.9041468 | 0.6255123 | 15.75545  | 282       | 1221      | 731       | 2660      | 4894      |\n",
       "| 11        | 0.7689256 | 0.7870398 | 0.8198799 | 0.8433012 | 0.7970985 | 0.9082257 | 0.6296107 | 16.82233  | 270       | 1229      | 723       | 2672      | 4894      |\n",
       "| 12        | 0.7674003 | 0.7867495 | 0.8136153 | 0.8413728 | 0.7950552 | 0.9041468 | 0.6306352 | 16.10480  | 282       | 1231      | 721       | 2660      | 4894      |\n",
       "| 13        | 0.7681466 | 0.7871711 | 0.8153541 | 0.8420553 | 0.7958725 | 0.9051666 | 0.6311475 | 16.33222  | 279       | 1232      | 720       | 2663      | 4894      |\n",
       "| 14        | 0.7671286 | 0.7865169 | 0.8134921 | 0.8412397 | 0.7948508 | 0.9041468 | 0.6301230 | 16.06943  | 282       | 1230      | 722       | 2660      | 4894      |\n",
       "| 15        | 0.7655073 | 0.7849558 | 0.8131649 | 0.8404927 | 0.7936248 | 0.9044867 | 0.6265369 | 15.88684  | 281       | 1223      | 729       | 2661      | 4894      |\n",
       "| 16        | 0.7600483 | 0.7791715 | 0.8151432 | 0.8386185 | 0.7899469 | 0.9078858 | 0.6121926 | 15.55882  | 271       | 1195      | 757       | 2671      | 4894      |\n",
       "| 17        | 0.7685789 | 0.7869142 | 0.8187875 | 0.8429361 | 0.7966898 | 0.9075459 | 0.6296107 | 16.68614  | 272       | 1229      | 723       | 2670      | 4894      |\n",
       "| 18        | 0.7698647 | 0.7866979 | 0.8264686 | 0.8450039 | 0.7987331 | 0.9126445 | 0.6270492 | 17.56553  | 257       | 1224      | 728       | 2685      | 4894      |\n",
       "| 19        | 0.7693315 | 0.7867841 | 0.8233714 | 0.8441784 | 0.7979158 | 0.9106050 | 0.6280738 | 17.20168  | 263       | 1226      | 726       | 2679      | 4894      |\n",
       "| 20        | 0.7686554 | 0.7859865 | 0.8240054 | 0.8440107 | 0.7975072 | 0.9112848 | 0.6260246 | 17.19510  | 261       | 1222      | 730       | 2681      | 4894      |\n",
       "\n"
      ],
      "text/plain": [
       "      iteration roc_auc   PPV       NPV       F1        accuracy  sensitivity\n",
       " [1,]  1        0.7729092 0.7900324 0.8250166 0.8460445 0.8007765 0.9106050  \n",
       " [2,]  2        0.7695911 0.7861948 0.8277966 0.8451501 0.7987331 0.9136642  \n",
       " [3,]  3        0.7672060 0.7858616 0.8172115 0.8420388 0.7954638 0.9068661  \n",
       " [4,]  4        0.7663355 0.7847283 0.8186702 0.8419726 0.7950552 0.9082257  \n",
       " [5,]  5        0.7683877 0.7860288 0.8224613 0.8435974 0.7970985 0.9102651  \n",
       " [6,]  6        0.7685545 0.7863650 0.8215962 0.8434988 0.7970985 0.9095853  \n",
       " [7,]  7        0.7688284 0.7865961 0.8217158 0.8436318 0.7973028 0.9095853  \n",
       " [8,]  8        0.7655733 0.7851240 0.8127490 0.8404423 0.7936248 0.9041468  \n",
       " [9,]  9        0.7662794 0.7851045 0.8162993 0.8414576 0.7946465 0.9065262  \n",
       "[10,] 10        0.7648182 0.7844294 0.8123752 0.8400442 0.7930119 0.9041468  \n",
       "[11,] 11        0.7689256 0.7870398 0.8198799 0.8433012 0.7970985 0.9082257  \n",
       "[12,] 12        0.7674003 0.7867495 0.8136153 0.8413728 0.7950552 0.9041468  \n",
       "[13,] 13        0.7681466 0.7871711 0.8153541 0.8420553 0.7958725 0.9051666  \n",
       "[14,] 14        0.7671286 0.7865169 0.8134921 0.8412397 0.7948508 0.9041468  \n",
       "[15,] 15        0.7655073 0.7849558 0.8131649 0.8404927 0.7936248 0.9044867  \n",
       "[16,] 16        0.7600483 0.7791715 0.8151432 0.8386185 0.7899469 0.9078858  \n",
       "[17,] 17        0.7685789 0.7869142 0.8187875 0.8429361 0.7966898 0.9075459  \n",
       "[18,] 18        0.7698647 0.7866979 0.8264686 0.8450039 0.7987331 0.9126445  \n",
       "[19,] 19        0.7693315 0.7867841 0.8233714 0.8441784 0.7979158 0.9106050  \n",
       "[20,] 20        0.7686554 0.7859865 0.8240054 0.8440107 0.7975072 0.9112848  \n",
       "      specificity odds_ratio FN  TN   FP  TP   size\n",
       " [1,] 0.6352459   17.74021   263 1240 712 2679 4894\n",
       " [2,] 0.6255123   17.67640   254 1221 731 2688 4894\n",
       " [3,] 0.6275615   16.40729   274 1225 727 2668 4894\n",
       " [4,] 0.6244877   16.45782   270 1219 733 2672 4894\n",
       " [5,] 0.6265369   17.01788   264 1223 729 2678 4894\n",
       " [6,] 0.6275615   16.95142   266 1225 727 2676 4894\n",
       " [7,] 0.6280738   16.98863   266 1226 726 2676 4894\n",
       " [8,] 0.6270492   15.85925   282 1224 728 2660 4894\n",
       " [9,] 0.6260246   16.23449   275 1222 730 2667 4894\n",
       "[10,] 0.6255123   15.75545   282 1221 731 2660 4894\n",
       "[11,] 0.6296107   16.82233   270 1229 723 2672 4894\n",
       "[12,] 0.6306352   16.10480   282 1231 721 2660 4894\n",
       "[13,] 0.6311475   16.33222   279 1232 720 2663 4894\n",
       "[14,] 0.6301230   16.06943   282 1230 722 2660 4894\n",
       "[15,] 0.6265369   15.88684   281 1223 729 2661 4894\n",
       "[16,] 0.6121926   15.55882   271 1195 757 2671 4894\n",
       "[17,] 0.6296107   16.68614   272 1229 723 2670 4894\n",
       "[18,] 0.6270492   17.56553   257 1224 728 2685 4894\n",
       "[19,] 0.6280738   17.20168   263 1226 726 2679 4894\n",
       "[20,] 0.6260246   17.19510   261 1222 730 2681 4894"
      ]
     },
     "metadata": {},
     "output_type": "display_data"
    }
   ],
   "source": [
    "overall_table"
   ]
  },
  {
   "cell_type": "code",
   "execution_count": 11,
   "metadata": {},
   "outputs": [],
   "source": [
    "save_file = 'DT_dengue_Overall_Results.csv'\n",
    "save_pathfile <- paste(path,save_file,sep='')\n",
    "\n",
    "# Write CSV\n",
    "write.csv(combined, file = save_pathfile)"
   ]
  },
  {
   "cell_type": "code",
   "execution_count": null,
   "metadata": {},
   "outputs": [],
   "source": []
  },
  {
   "cell_type": "markdown",
   "metadata": {},
   "source": [
    "## Overall Results"
   ]
  },
  {
   "cell_type": "code",
   "execution_count": 12,
   "metadata": {},
   "outputs": [
    {
     "data": {
      "text/html": [
       "<dl class=dl-horizontal>\n",
       "\t<dt>model_num</dt>\n",
       "\t\t<dd>6</dd>\n",
       "\t<dt>roc_auc</dt>\n",
       "\t\t<dd>0.784137331594959</dd>\n",
       "\t<dt>PPV</dt>\n",
       "\t\t<dd>0.800595238095238</dd>\n",
       "\t<dt>NPV</dt>\n",
       "\t\t<dd>0.831168831168831</dd>\n",
       "\t<dt>F1</dt>\n",
       "\t\t<dd>0.852614896988906</dd>\n",
       "\t<dt>accuracy</dt>\n",
       "\t\t<dd>0.810204081632653</dd>\n",
       "\t<dt>sensitivity</dt>\n",
       "\t\t<dd>0.911864406779661</dd>\n",
       "\t<dt>specificity</dt>\n",
       "\t\t<dd>0.656410256410256</dd>\n",
       "\t<dt>odds_ratio</dt>\n",
       "\t\t<dd>19.7657864523536</dd>\n",
       "\t<dt>FN</dt>\n",
       "\t\t<dd>26</dd>\n",
       "\t<dt>TN</dt>\n",
       "\t\t<dd>128</dd>\n",
       "\t<dt>FP</dt>\n",
       "\t\t<dd>67</dd>\n",
       "\t<dt>TP</dt>\n",
       "\t\t<dd>269</dd>\n",
       "\t<dt>size</dt>\n",
       "\t\t<dd>490</dd>\n",
       "</dl>\n"
      ],
      "text/latex": [
       "\\begin{description*}\n",
       "\\item[model\\textbackslash{}\\_num] 6\n",
       "\\item[roc\\textbackslash{}\\_auc] 0.784137331594959\n",
       "\\item[PPV] 0.800595238095238\n",
       "\\item[NPV] 0.831168831168831\n",
       "\\item[F1] 0.852614896988906\n",
       "\\item[accuracy] 0.810204081632653\n",
       "\\item[sensitivity] 0.911864406779661\n",
       "\\item[specificity] 0.656410256410256\n",
       "\\item[odds\\textbackslash{}\\_ratio] 19.7657864523536\n",
       "\\item[FN] 26\n",
       "\\item[TN] 128\n",
       "\\item[FP] 67\n",
       "\\item[TP] 269\n",
       "\\item[size] 490\n",
       "\\end{description*}\n"
      ],
      "text/markdown": [
       "model_num\n",
       ":   6roc_auc\n",
       ":   0.784137331594959PPV\n",
       ":   0.800595238095238NPV\n",
       ":   0.831168831168831F1\n",
       ":   0.852614896988906accuracy\n",
       ":   0.810204081632653sensitivity\n",
       ":   0.911864406779661specificity\n",
       ":   0.656410256410256odds_ratio\n",
       ":   19.7657864523536FN\n",
       ":   26TN\n",
       ":   128FP\n",
       ":   67TP\n",
       ":   269size\n",
       ":   490\n",
       "\n"
      ],
      "text/plain": [
       "  model_num     roc_auc         PPV         NPV          F1    accuracy \n",
       "  6.0000000   0.7841373   0.8005952   0.8311688   0.8526149   0.8102041 \n",
       "sensitivity specificity  odds_ratio          FN          TN          FP \n",
       "  0.9118644   0.6564103  19.7657865  26.0000000 128.0000000  67.0000000 \n",
       "         TP        size \n",
       "269.0000000 490.0000000 "
      ]
     },
     "metadata": {},
     "output_type": "display_data"
    }
   ],
   "source": [
    "result_table[6,]"
   ]
  },
  {
   "cell_type": "code",
   "execution_count": 13,
   "metadata": {},
   "outputs": [
    {
     "data": {
      "text/html": [
       "<table>\n",
       "<thead><tr><th scope=col>iteration</th><th scope=col>roc_auc</th><th scope=col>PPV</th><th scope=col>NPV</th><th scope=col>F1</th><th scope=col>accuracy</th><th scope=col>sensitivity</th><th scope=col>specificity</th><th scope=col>odds_ratio</th><th scope=col>FN</th><th scope=col>TN</th><th scope=col>FP</th><th scope=col>TP</th><th scope=col>size</th></tr></thead>\n",
       "<tbody>\n",
       "\t<tr><td>Avg       </td><td>0.76760   </td><td>0.78592   </td><td>0.81896   </td><td>0.84255   </td><td>0.79601   </td><td>0.90799   </td><td>0.62723   </td><td>16.62559  </td><td>270.70000 </td><td>1224.3500 </td><td>727.6500  </td><td>2671.30000</td><td>4894      </td></tr>\n",
       "\t<tr><td>SD        </td><td>0.00256   </td><td>0.00199   </td><td>0.00490   </td><td>0.00191   </td><td>0.00242   </td><td>0.00301   </td><td>0.00433   </td><td> 0.65871  </td><td>  8.84427 </td><td>   8.4497 </td><td>  8.4497  </td><td>   8.84427</td><td>   0      </td></tr>\n",
       "</tbody>\n",
       "</table>\n"
      ],
      "text/latex": [
       "\\begin{tabular}{r|llllllllllllll}\n",
       " iteration & roc\\_auc & PPV & NPV & F1 & accuracy & sensitivity & specificity & odds\\_ratio & FN & TN & FP & TP & size\\\\\n",
       "\\hline\n",
       "\t Avg        & 0.76760    & 0.78592    & 0.81896    & 0.84255    & 0.79601    & 0.90799    & 0.62723    & 16.62559   & 270.70000  & 1224.3500  & 727.6500   & 2671.30000 & 4894      \\\\\n",
       "\t SD         & 0.00256    & 0.00199    & 0.00490    & 0.00191    & 0.00242    & 0.00301    & 0.00433    &  0.65871   &   8.84427  &    8.4497  &   8.4497   &    8.84427 &    0      \\\\\n",
       "\\end{tabular}\n"
      ],
      "text/markdown": [
       "\n",
       "| iteration | roc_auc | PPV | NPV | F1 | accuracy | sensitivity | specificity | odds_ratio | FN | TN | FP | TP | size |\n",
       "|---|---|---|---|---|---|---|---|---|---|---|---|---|---|\n",
       "| Avg        | 0.76760    | 0.78592    | 0.81896    | 0.84255    | 0.79601    | 0.90799    | 0.62723    | 16.62559   | 270.70000  | 1224.3500  | 727.6500   | 2671.30000 | 4894       |\n",
       "| SD         | 0.00256    | 0.00199    | 0.00490    | 0.00191    | 0.00242    | 0.00301    | 0.00433    |  0.65871   |   8.84427  |    8.4497  |   8.4497   |    8.84427 |    0       |\n",
       "\n"
      ],
      "text/plain": [
       "  iteration roc_auc PPV     NPV     F1      accuracy sensitivity specificity\n",
       "1 Avg       0.76760 0.78592 0.81896 0.84255 0.79601  0.90799     0.62723    \n",
       "2 SD        0.00256 0.00199 0.00490 0.00191 0.00242  0.00301     0.00433    \n",
       "  odds_ratio FN        TN        FP       TP         size\n",
       "1 16.62559   270.70000 1224.3500 727.6500 2671.30000 4894\n",
       "2  0.65871     8.84427    8.4497   8.4497    8.84427    0"
      ]
     },
     "metadata": {},
     "output_type": "display_data"
    }
   ],
   "source": [
    "round_df <- function(x, digits) {\n",
    "    # round all numeric variables\n",
    "    # x: data frame \n",
    "    # digits: number of digits to round\n",
    "    y = x\n",
    "    numeric_columns <- sapply(x, mode) == 'numeric'\n",
    "    y[numeric_columns] <- round(x[numeric_columns], digits)\n",
    "    y\n",
    "}\n",
    "\n",
    "round_df(combined, 5)"
   ]
  },
  {
   "cell_type": "code",
   "execution_count": null,
   "metadata": {},
   "outputs": [],
   "source": []
  }
 ],
 "metadata": {
  "kernelspec": {
   "display_name": "R",
   "language": "R",
   "name": "ir"
  },
  "language_info": {
   "codemirror_mode": "r",
   "file_extension": ".r",
   "mimetype": "text/x-r-source",
   "name": "R",
   "pygments_lexer": "r",
   "version": "3.6.1"
  }
 },
 "nbformat": 4,
 "nbformat_minor": 2
}
