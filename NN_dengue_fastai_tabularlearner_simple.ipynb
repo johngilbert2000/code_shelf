{
 "cells": [
  {
   "cell_type": "markdown",
   "metadata": {},
   "source": [
    "## Setup\n"
   ]
  },
  {
   "cell_type": "markdown",
   "metadata": {},
   "source": [
    "This notebook was originally written with the following versions:\n",
    "\n",
    "    python 3.7.4\n",
    "    fastai 1.0.57\n",
    "    torch 1.2.0\n",
    "    pandas 0.25.0\n",
    "    numpy 1.16.4\n",
    "\n",
    "##### Fastai: Useful links and commands to get setup:\n",
    "Install anaconda3 on Linux (https://docs.anaconda.com/anaconda/install/linux/):\n",
    "\n",
    "    wget https://repo.anaconda.com/archive/Anaconda3-2019.07-Linux-x86_64.sh\n",
    "    bash ~/Anaconda3-2019.07-Linux-x86_64.sh\n",
    "\n",
    "Enter an anaconda environment: \n",
    "\n",
    "    source anaconda3/bin/activate\n",
    "    \n",
    "Create new anaconda environment: \n",
    "\n",
    "    conda create -n myenv python=3.7.4\n",
    "\n",
    "Enter conda environment:\n",
    "\n",
    "    conda activate myenv\n",
    "    \n",
    "Install fastai + dependencies:\n",
    "\n",
    "    conda install -c pytorch -c fastai fastai pytorch torchvision cuda92\n",
    "    \n",
    "    \n",
    "##### Library Docs (for reference):\n",
    "    \n",
    "- fastai tabular: https://docs.fast.ai/tabular.data.html\n",
    "- pandas dataframe: https://pandas.pydata.org/pandas-docs/stable/reference/frame.html\n",
    "    \n"
   ]
  },
  {
   "cell_type": "markdown",
   "metadata": {},
   "source": [
    "## Prepare Notebook"
   ]
  },
  {
   "cell_type": "code",
   "execution_count": 1,
   "metadata": {},
   "outputs": [],
   "source": [
    "# Jupyter Notebook Magic\n",
    "\n",
    "%reload_ext autoreload\n",
    "%autoreload 2\n",
    "%matplotlib inline\n",
    "\n",
    "# Import Modules\n",
    "\n",
    "from fastai.tabular import *\n",
    "from fastai.collab import *\n",
    "import numpy as np\n",
    "import pandas as pd\n",
    "from pathlib import Path\n",
    "\n",
    "import unittest\n",
    "\n",
    "# Data Information\n",
    "\n",
    "# filename = 'patient_year_vital_lab_exam_add-on_death_outcome_comorbidity_TCIC_dengue_suspected_bmi_ER_label_missing_mask.csv'\n",
    "filename = 'patients_cleaned.csv'\n",
    "path = Path('../mydata')"
   ]
  },
  {
   "cell_type": "markdown",
   "metadata": {},
   "source": [
    "## Data Preparation"
   ]
  },
  {
   "cell_type": "markdown",
   "metadata": {},
   "source": [
    "##### Convert CSV to Dataframe"
   ]
  },
  {
   "cell_type": "code",
   "execution_count": 2,
   "metadata": {},
   "outputs": [],
   "source": [
    "# View all CSV column names\n",
    "# df = pd.read_csv(path/filename, low_memory=False)\n",
    "# \"|\".join(df.columns.tolist())"
   ]
  },
  {
   "cell_type": "code",
   "execution_count": 2,
   "metadata": {},
   "outputs": [
    {
     "data": {
      "text/html": [
       "<div>\n",
       "<style scoped>\n",
       "    .dataframe tbody tr th:only-of-type {\n",
       "        vertical-align: middle;\n",
       "    }\n",
       "\n",
       "    .dataframe tbody tr th {\n",
       "        vertical-align: top;\n",
       "    }\n",
       "\n",
       "    .dataframe thead th {\n",
       "        text-align: right;\n",
       "    }\n",
       "</style>\n",
       "<table border=\"1\" class=\"dataframe\">\n",
       "  <thead>\n",
       "    <tr style=\"text-align: right;\">\n",
       "      <th></th>\n",
       "      <th>age</th>\n",
       "      <th>Temp</th>\n",
       "      <th>exam_Plt</th>\n",
       "      <th>exam_WBC</th>\n",
       "      <th>lab_result</th>\n",
       "    </tr>\n",
       "  </thead>\n",
       "  <tbody>\n",
       "    <tr>\n",
       "      <th>4040</th>\n",
       "      <td>18</td>\n",
       "      <td>38.0</td>\n",
       "      <td>273.0</td>\n",
       "      <td>8.6</td>\n",
       "      <td>False</td>\n",
       "    </tr>\n",
       "    <tr>\n",
       "      <th>4404</th>\n",
       "      <td>74</td>\n",
       "      <td>38.5</td>\n",
       "      <td>207.0</td>\n",
       "      <td>15.8</td>\n",
       "      <td>False</td>\n",
       "    </tr>\n",
       "    <tr>\n",
       "      <th>1162</th>\n",
       "      <td>36</td>\n",
       "      <td>37.2</td>\n",
       "      <td>165.0</td>\n",
       "      <td>8.1</td>\n",
       "      <td>False</td>\n",
       "    </tr>\n",
       "    <tr>\n",
       "      <th>608</th>\n",
       "      <td>44</td>\n",
       "      <td>36.9</td>\n",
       "      <td>117.0</td>\n",
       "      <td>3.2</td>\n",
       "      <td>True</td>\n",
       "    </tr>\n",
       "    <tr>\n",
       "      <th>3847</th>\n",
       "      <td>21</td>\n",
       "      <td>37.8</td>\n",
       "      <td>171.0</td>\n",
       "      <td>5.0</td>\n",
       "      <td>True</td>\n",
       "    </tr>\n",
       "  </tbody>\n",
       "</table>\n",
       "</div>"
      ],
      "text/plain": [
       "      age  Temp  exam_Plt  exam_WBC  lab_result\n",
       "4040   18  38.0     273.0       8.6       False\n",
       "4404   74  38.5     207.0      15.8       False\n",
       "1162   36  37.2     165.0       8.1       False\n",
       "608    44  36.9     117.0       3.2        True\n",
       "3847   21  37.8     171.0       5.0        True"
      ]
     },
     "execution_count": 2,
     "metadata": {},
     "output_type": "execute_result"
    }
   ],
   "source": [
    "# Read CSV with desired columns\n",
    "desired_cols = ['age','Temp','exam_WBC','exam_Plt','lab_result']\n",
    "df = pd.read_csv(path/filename, usecols=desired_cols)\n",
    "\n",
    "# Randomize data\n",
    "df = df.iloc[np.random.permutation(len(df))]\n",
    "\n",
    "# Convert dataframe types to float32 for fastai's tabular learner\n",
    "df.astype('float32')\n",
    "\n",
    "df.head()"
   ]
  },
  {
   "cell_type": "markdown",
   "metadata": {},
   "source": [
    "#### Prepare Fastai Databunch"
   ]
  },
  {
   "cell_type": "code",
   "execution_count": 3,
   "metadata": {},
   "outputs": [
    {
     "data": {
      "text/html": [
       "<table border=\"1\" class=\"dataframe\">\n",
       "  <thead>\n",
       "    <tr style=\"text-align: right;\">\n",
       "      <th>age</th>\n",
       "      <th>Temp</th>\n",
       "      <th>exam_Plt</th>\n",
       "      <th>exam_WBC</th>\n",
       "      <th>target</th>\n",
       "    </tr>\n",
       "  </thead>\n",
       "  <tbody>\n",
       "    <tr>\n",
       "      <td>22.0000</td>\n",
       "      <td>38.1000</td>\n",
       "      <td>186.0000</td>\n",
       "      <td>6.8000</td>\n",
       "      <td>False</td>\n",
       "    </tr>\n",
       "    <tr>\n",
       "      <td>68.0000</td>\n",
       "      <td>36.8000</td>\n",
       "      <td>228.0000</td>\n",
       "      <td>15.2000</td>\n",
       "      <td>False</td>\n",
       "    </tr>\n",
       "    <tr>\n",
       "      <td>14.0000</td>\n",
       "      <td>36.5000</td>\n",
       "      <td>103.0000</td>\n",
       "      <td>2.6000</td>\n",
       "      <td>True</td>\n",
       "    </tr>\n",
       "    <tr>\n",
       "      <td>67.0000</td>\n",
       "      <td>39.1000</td>\n",
       "      <td>105.0000</td>\n",
       "      <td>4.9000</td>\n",
       "      <td>True</td>\n",
       "    </tr>\n",
       "    <tr>\n",
       "      <td>38.0000</td>\n",
       "      <td>36.6000</td>\n",
       "      <td>225.0000</td>\n",
       "      <td>3.6000</td>\n",
       "      <td>False</td>\n",
       "    </tr>\n",
       "  </tbody>\n",
       "</table>"
      ],
      "text/plain": [
       "<IPython.core.display.HTML object>"
      ]
     },
     "metadata": {},
     "output_type": "display_data"
    }
   ],
   "source": [
    "dep_var = 'lab_result' # target / dependent variable\n",
    "cat_names = [] # categorical variables\n",
    "cont_names = ['age','Temp','exam_Plt','exam_WBC'] # continuous variables\n",
    "# procs = [FillMissing, Categorify, Normalize] # procs didn't work because no categorical variables were used\n",
    "\n",
    "\n",
    "# Percent of original dataframe\n",
    "test_pct = 0\n",
    "valid_pct = 0.2\n",
    "\n",
    "# Masks for separating dataframe sets\n",
    "cut_test = int(test_pct * len(df))\n",
    "cut_valid = int(valid_pct*len(df))+cut_test\n",
    "\n",
    "valid_indx = range(cut_test,cut_valid) # range of validation indices, used for fastai\n",
    "dep_var = 'lab_result'\n",
    "\n",
    "test = TabularList.from_df(df.iloc[cut_test:cut_valid].copy(), cat_names=cat_names, cont_names=cont_names)\n",
    "\n",
    "data = (TabularList.from_df(df=df, path=path, cat_names=cat_names, cont_names=cont_names)\n",
    "                           .split_by_idx(valid_indx)\n",
    "                           .label_from_df(cols=dep_var)\n",
    "                           .add_test(test,label=0)\n",
    "                           .databunch())\n",
    "\n",
    "data.show_batch()"
   ]
  },
  {
   "cell_type": "code",
   "execution_count": 56,
   "metadata": {},
   "outputs": [],
   "source": [
    "# valid = df[valid_indx[0]:valid_indx[-1]+1]  # same as data.valid_ds"
   ]
  },
  {
   "cell_type": "markdown",
   "metadata": {},
   "source": [
    "## Training"
   ]
  },
  {
   "cell_type": "code",
   "execution_count": 33,
   "metadata": {},
   "outputs": [],
   "source": [
    "# Tabular Classifier\n",
    "learn = tabular_learner(data, layers=[200,100],metrics=accuracy) # metrics accuracy 200 100\n",
    "# layers = [2000,1000,500,250,100]"
   ]
  },
  {
   "cell_type": "code",
   "execution_count": 34,
   "metadata": {},
   "outputs": [
    {
     "data": {
      "text/html": [],
      "text/plain": [
       "<IPython.core.display.HTML object>"
      ]
     },
     "metadata": {},
     "output_type": "display_data"
    },
    {
     "name": "stdout",
     "output_type": "stream",
     "text": [
      "LR Finder is complete, type {learner_name}.recorder.plot() to see the graph.\n",
      "Min numerical gradient: 1.74E-03\n",
      "Min loss divided by 10: 1.74E-02\n"
     ]
    },
    {
     "data": {
      "image/png": "[encoded data removed]",
      "text/plain": [
       "<Figure size 432x288 with 1 Axes>"
      ]
     },
     "metadata": {
      "needs_background": "light"
     },
     "output_type": "display_data"
    }
   ],
   "source": [
    "learn.lr_find()\n",
    "learn.recorder.plot(skip_end=10,skip_start=20,suggestion=True)"
   ]
  },
  {
   "cell_type": "code",
   "execution_count": 57,
   "metadata": {},
   "outputs": [
    {
     "data": {
      "text/plain": [
       "64"
      ]
     },
     "execution_count": 57,
     "metadata": {},
     "output_type": "execute_result"
    }
   ],
   "source": [
    "data.batch_size"
   ]
  },
  {
   "cell_type": "code",
   "execution_count": 35,
   "metadata": {},
   "outputs": [
    {
     "data": {
      "text/html": [
       "<table border=\"1\" class=\"dataframe\">\n",
       "  <thead>\n",
       "    <tr style=\"text-align: left;\">\n",
       "      <th>epoch</th>\n",
       "      <th>train_loss</th>\n",
       "      <th>valid_loss</th>\n",
       "      <th>accuracy</th>\n",
       "      <th>time</th>\n",
       "    </tr>\n",
       "  </thead>\n",
       "  <tbody>\n",
       "    <tr>\n",
       "      <td>0</td>\n",
       "      <td>0.526855</td>\n",
       "      <td>0.481300</td>\n",
       "      <td>0.793456</td>\n",
       "      <td>00:00</td>\n",
       "    </tr>\n",
       "    <tr>\n",
       "      <td>1</td>\n",
       "      <td>0.480883</td>\n",
       "      <td>0.444824</td>\n",
       "      <td>0.815951</td>\n",
       "      <td>00:00</td>\n",
       "    </tr>\n",
       "    <tr>\n",
       "      <td>2</td>\n",
       "      <td>0.469329</td>\n",
       "      <td>0.449991</td>\n",
       "      <td>0.804703</td>\n",
       "      <td>00:00</td>\n",
       "    </tr>\n",
       "    <tr>\n",
       "      <td>3</td>\n",
       "      <td>0.458127</td>\n",
       "      <td>0.449136</td>\n",
       "      <td>0.812883</td>\n",
       "      <td>00:00</td>\n",
       "    </tr>\n",
       "    <tr>\n",
       "      <td>4</td>\n",
       "      <td>0.452611</td>\n",
       "      <td>0.449268</td>\n",
       "      <td>0.810838</td>\n",
       "      <td>00:00</td>\n",
       "    </tr>\n",
       "    <tr>\n",
       "      <td>5</td>\n",
       "      <td>0.441594</td>\n",
       "      <td>0.450899</td>\n",
       "      <td>0.799591</td>\n",
       "      <td>00:00</td>\n",
       "    </tr>\n",
       "    <tr>\n",
       "      <td>6</td>\n",
       "      <td>0.444673</td>\n",
       "      <td>0.447144</td>\n",
       "      <td>0.812883</td>\n",
       "      <td>00:00</td>\n",
       "    </tr>\n",
       "    <tr>\n",
       "      <td>7</td>\n",
       "      <td>0.437062</td>\n",
       "      <td>0.448795</td>\n",
       "      <td>0.800614</td>\n",
       "      <td>00:00</td>\n",
       "    </tr>\n",
       "    <tr>\n",
       "      <td>8</td>\n",
       "      <td>0.437913</td>\n",
       "      <td>0.445944</td>\n",
       "      <td>0.806748</td>\n",
       "      <td>00:00</td>\n",
       "    </tr>\n",
       "    <tr>\n",
       "      <td>9</td>\n",
       "      <td>0.432482</td>\n",
       "      <td>0.437599</td>\n",
       "      <td>0.815951</td>\n",
       "      <td>00:00</td>\n",
       "    </tr>\n",
       "    <tr>\n",
       "      <td>10</td>\n",
       "      <td>0.428602</td>\n",
       "      <td>0.437902</td>\n",
       "      <td>0.816973</td>\n",
       "      <td>00:00</td>\n",
       "    </tr>\n",
       "    <tr>\n",
       "      <td>11</td>\n",
       "      <td>0.429639</td>\n",
       "      <td>0.442143</td>\n",
       "      <td>0.815951</td>\n",
       "      <td>00:00</td>\n",
       "    </tr>\n",
       "    <tr>\n",
       "      <td>12</td>\n",
       "      <td>0.421656</td>\n",
       "      <td>0.441106</td>\n",
       "      <td>0.816973</td>\n",
       "      <td>00:00</td>\n",
       "    </tr>\n",
       "    <tr>\n",
       "      <td>13</td>\n",
       "      <td>0.419581</td>\n",
       "      <td>0.439598</td>\n",
       "      <td>0.822086</td>\n",
       "      <td>00:00</td>\n",
       "    </tr>\n",
       "    <tr>\n",
       "      <td>14</td>\n",
       "      <td>0.422518</td>\n",
       "      <td>0.439486</td>\n",
       "      <td>0.823108</td>\n",
       "      <td>00:00</td>\n",
       "    </tr>\n",
       "  </tbody>\n",
       "</table>"
      ],
      "text/plain": [
       "<IPython.core.display.HTML object>"
      ]
     },
     "metadata": {},
     "output_type": "display_data"
    }
   ],
   "source": [
    "learn.fit_one_cycle(15,max_lr=1e-3)"
   ]
  },
  {
   "cell_type": "markdown",
   "metadata": {},
   "source": [
    "## Results"
   ]
  },
  {
   "cell_type": "code",
   "execution_count": 73,
   "metadata": {},
   "outputs": [],
   "source": [
    "preds, targets = learn.get_preds(DatasetType.Valid)\n",
    "labels = np.argmax(preds, 1)"
   ]
  },
  {
   "cell_type": "code",
   "execution_count": 138,
   "metadata": {},
   "outputs": [
    {
     "data": {
      "text/plain": [
       "0.8231083750724792"
      ]
     },
     "execution_count": 138,
     "metadata": {},
     "output_type": "execute_result"
    }
   ],
   "source": [
    "(targets == labels).type(torch.FloatTensor).mean().item() # accuracy"
   ]
  },
  {
   "cell_type": "code",
   "execution_count": 139,
   "metadata": {},
   "outputs": [
    {
     "data": {
      "text/plain": [
       "tensor([[0.8259, 0.1741],\n",
       "        [0.2540, 0.7460],\n",
       "        [0.0692, 0.9308],\n",
       "        ...,\n",
       "        [0.0501, 0.9499],\n",
       "        [0.1867, 0.8133],\n",
       "        [0.6522, 0.3478]])"
      ]
     },
     "execution_count": 139,
     "metadata": {},
     "output_type": "execute_result"
    }
   ],
   "source": [
    "preds"
   ]
  },
  {
   "cell_type": "code",
   "execution_count": 132,
   "metadata": {},
   "outputs": [
    {
     "data": {
      "text/plain": [
       "(56, 117, 279, 526)"
      ]
     },
     "execution_count": 132,
     "metadata": {},
     "output_type": "execute_result"
    }
   ],
   "source": [
    "compare = pd.DataFrame(targets == labels)\n",
    "fi = list(compare[compare[0]==False].index.to_numpy()) # false indices\n",
    "ti = list(compare[compare[0]==True].index.to_numpy()) # true indices\n",
    "\n",
    "FN = len(labels[fi][labels[fi]==0]) # false negatives\n",
    "FP = len(labels[fi][labels[fi]==1]) # false positives\n",
    "TN = len(labels[ti][labels[ti]==0]) # true negatives\n",
    "TP = len(labels[ti][labels[ti]==1]) # true positives\n",
    "\n",
    "FN,FP,TN,TP"
   ]
  },
  {
   "cell_type": "code",
   "execution_count": 153,
   "metadata": {},
   "outputs": [],
   "source": [
    "assert len(data.valid_ds) == FN+FP+TN+TP"
   ]
  },
  {
   "cell_type": "code",
   "execution_count": 144,
   "metadata": {},
   "outputs": [],
   "source": [
    "PPV = TP / (TP + FP) if (TP+FP != 0) else 0 # positive predict value\n",
    "NPV = TN / (TN + FN) if (TN+FN != 0) else 0 # negative predict value\n",
    "F1 = 2*TP / (2*TP + FP + FN) #\n",
    "accuracy = (TP + TN) / (TP + TN + FP + FN)\n",
    "sensitivity = TP /(TP + FN) if (TP+FN != 0) else 0\n",
    "specificity = TN /(TN + FP) if (TN+FP != 0) else 0\n",
    "odds_ratio = (TP * TN) /(FP * FN) if (FP*FN != 0) else 0\n",
    "total = FN+FP+TN+TP\n",
    "\n",
    "results = [sensitivity, specificity, accuracy, PPV, NPV, F1, odds_ratio, TN, FP, FN, TP, total]\n",
    "results_names = ['sensitivity', 'specificity', 'accuracy', 'PPV', 'NPV', 'F1', 'odds_ratio', 'TN', 'FP', 'FN', 'TP', 'total']"
   ]
  },
  {
   "cell_type": "code",
   "execution_count": 150,
   "metadata": {},
   "outputs": [
    {
     "data": {
      "text/html": [
       "<div>\n",
       "<style scoped>\n",
       "    .dataframe tbody tr th:only-of-type {\n",
       "        vertical-align: middle;\n",
       "    }\n",
       "\n",
       "    .dataframe tbody tr th {\n",
       "        vertical-align: top;\n",
       "    }\n",
       "\n",
       "    .dataframe thead th {\n",
       "        text-align: right;\n",
       "    }\n",
       "</style>\n",
       "<table border=\"1\" class=\"dataframe\">\n",
       "  <thead>\n",
       "    <tr style=\"text-align: right;\">\n",
       "      <th></th>\n",
       "      <th>df</th>\n",
       "      <th>sensitivity</th>\n",
       "      <th>specificity</th>\n",
       "      <th>accuracy</th>\n",
       "      <th>PPV</th>\n",
       "      <th>NPV</th>\n",
       "      <th>F1</th>\n",
       "      <th>odds_ratio</th>\n",
       "      <th>TN</th>\n",
       "      <th>FP</th>\n",
       "      <th>FN</th>\n",
       "      <th>TP</th>\n",
       "      <th>total</th>\n",
       "    </tr>\n",
       "  </thead>\n",
       "  <tbody>\n",
       "    <tr>\n",
       "      <th>0</th>\n",
       "      <td>Overall</td>\n",
       "      <td>0.90378</td>\n",
       "      <td>0.704545</td>\n",
       "      <td>0.823108</td>\n",
       "      <td>0.81804</td>\n",
       "      <td>0.832836</td>\n",
       "      <td>0.858776</td>\n",
       "      <td>22.398352</td>\n",
       "      <td>279</td>\n",
       "      <td>117</td>\n",
       "      <td>56</td>\n",
       "      <td>526</td>\n",
       "      <td>978</td>\n",
       "    </tr>\n",
       "  </tbody>\n",
       "</table>\n",
       "</div>"
      ],
      "text/plain": [
       "        df  sensitivity  specificity  accuracy      PPV       NPV        F1  \\\n",
       "0  Overall      0.90378     0.704545  0.823108  0.81804  0.832836  0.858776   \n",
       "\n",
       "   odds_ratio   TN   FP  FN   TP  total  \n",
       "0   22.398352  279  117  56  526    978  "
      ]
     },
     "execution_count": 150,
     "metadata": {},
     "output_type": "execute_result"
    }
   ],
   "source": [
    "pd.DataFrame(data=[['Overall'] + results], columns=['df']+results_names)"
   ]
  },
  {
   "cell_type": "markdown",
   "metadata": {},
   "source": [
    "## Conclusion"
   ]
  },
  {
   "cell_type": "markdown",
   "metadata": {},
   "source": []
  },
  {
   "cell_type": "markdown",
   "metadata": {},
   "source": [
    " "
   ]
  },
  {
   "cell_type": "markdown",
   "metadata": {},
   "source": [
    "The Fastai tabular learner network has the following architecture:\n",
    "\n",
    "    (embeds): ModuleList()\n",
    "      (emb_drop): Dropout(p=0.0, inplace=False)\n",
    "      (bn_cont): BatchNorm1d(4, eps=1e-05, momentum=0.1, affine=True, track_running_stats=True)\n",
    "      (layers): Sequential(\n",
    "        (0): Linear(in_features=4, out_features=200, bias=True)\n",
    "        (1): ReLU(inplace=True)\n",
    "        (2): BatchNorm1d(200, eps=1e-05, momentum=0.1, affine=True, track_running_stats=True)\n",
    "        (3): Linear(in_features=200, out_features=100, bias=True)\n",
    "        (4): ReLU(inplace=True)\n",
    "        (5): BatchNorm1d(100, eps=1e-05, momentum=0.1, affine=True, track_running_stats=True)\n",
    "        (6): Linear(in_features=100, out_features=2, bias=True)\n",
    "      )\n",
    "    ), opt_func=functools.partial(<class 'torch.optim.adam.Adam'>, betas=(0.9, 0.99)), loss_func=FlattenedLoss of CrossEntropyLoss(), metrics=[<function accuracy at 0x7f50893ad560>], true_wd=True, bn_wd=True, wd=0.01, train_bn=True, path=PosixPath('../mydata'), model_dir='models', callback_fns=[functools.partial(<class 'fastai.basic_train.Recorder'>, add_time=True, silent=False)], callbacks=[], layer_groups=[Sequential(\n",
    "      (0): ModuleList()\n",
    "      (1): Dropout(p=0.0, inplace=False)\n",
    "      (2): BatchNorm1d(4, eps=1e-05, momentum=0.1, affine=True, track_running_stats=True)\n",
    "      (3): Linear(in_features=4, out_features=200, bias=True)\n",
    "      (4): ReLU(inplace=True)\n",
    "      (5): BatchNorm1d(200, eps=1e-05, momentum=0.1, affine=True, track_running_stats=True)\n",
    "      (6): Linear(in_features=200, out_features=100, bias=True)\n",
    "      (7): ReLU(inplace=True)\n",
    "      (8): BatchNorm1d(100, eps=1e-05, momentum=0.1, affine=True, track_running_stats=True)\n",
    "      (9): Linear(in_features=100, out_features=2, bias=True)\n",
    "    )]"
   ]
  }
 ],
 "metadata": {
  "kernelspec": {
   "display_name": "Python 3",
   "language": "python",
   "name": "python3"
  },
  "language_info": {
   "codemirror_mode": {
    "name": "ipython",
    "version": 3
   },
   "file_extension": ".py",
   "mimetype": "text/x-python",
   "name": "python",
   "nbconvert_exporter": "python",
   "pygments_lexer": "ipython3",
   "version": "3.7.4"
  }
 },
 "nbformat": 4,
 "nbformat_minor": 2
}
